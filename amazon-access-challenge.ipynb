{
 "cells": [
  {
   "cell_type": "markdown",
   "id": "b62300bc",
   "metadata": {
    "papermill": {
     "duration": 0.039837,
     "end_time": "2022-02-14T16:42:54.843130",
     "exception": false,
     "start_time": "2022-02-14T16:42:54.803293",
     "status": "completed"
    },
    "tags": []
   },
   "source": [
    "# **Importing Libraries**"
   ]
  },
  {
   "cell_type": "code",
   "execution_count": 1,
   "id": "69ac2ac5",
   "metadata": {
    "execution": {
     "iopub.execute_input": "2022-02-14T16:42:54.927597Z",
     "iopub.status.busy": "2022-02-14T16:42:54.925726Z",
     "iopub.status.idle": "2022-02-14T16:42:56.252139Z",
     "shell.execute_reply": "2022-02-14T16:42:56.251402Z",
     "shell.execute_reply.started": "2021-11-07T14:02:16.80411Z"
    },
    "papermill": {
     "duration": 1.369209,
     "end_time": "2022-02-14T16:42:56.252301",
     "exception": false,
     "start_time": "2022-02-14T16:42:54.883092",
     "status": "completed"
    },
    "tags": []
   },
   "outputs": [],
   "source": [
    "import numpy as np # linear algebra\n",
    "import pandas as pd # data processing, CSV file I/O (e.g. pd.read_csv)\n",
    "import matplotlib.pyplot as plt #graphs and visualizations\n",
    "import seaborn as sns #graphs and visualizations\n",
    "import sklearn #ML models\n",
    "import sklearn.datasets\n",
    "import sklearn.linear_model\n",
    "import sklearn.model_selection\n"
   ]
  },
  {
   "cell_type": "markdown",
   "id": "ff86a7b7",
   "metadata": {
    "papermill": {
     "duration": 0.038637,
     "end_time": "2022-02-14T16:42:56.329078",
     "exception": false,
     "start_time": "2022-02-14T16:42:56.290441",
     "status": "completed"
    },
    "tags": []
   },
   "source": [
    "# **Loading Data**\n",
    "First, let's have a look at the training set."
   ]
  },
  {
   "cell_type": "code",
   "execution_count": 2,
   "id": "0cd0d93f",
   "metadata": {
    "execution": {
     "iopub.execute_input": "2022-02-14T16:42:56.407786Z",
     "iopub.status.busy": "2022-02-14T16:42:56.407116Z",
     "iopub.status.idle": "2022-02-14T16:42:56.558771Z",
     "shell.execute_reply": "2022-02-14T16:42:56.559276Z",
     "shell.execute_reply.started": "2021-11-07T14:02:18.074646Z"
    },
    "papermill": {
     "duration": 0.192712,
     "end_time": "2022-02-14T16:42:56.559468",
     "exception": false,
     "start_time": "2022-02-14T16:42:56.366756",
     "status": "completed"
    },
    "tags": []
   },
   "outputs": [
    {
     "data": {
      "text/html": [
       "<div>\n",
       "<style scoped>\n",
       "    .dataframe tbody tr th:only-of-type {\n",
       "        vertical-align: middle;\n",
       "    }\n",
       "\n",
       "    .dataframe tbody tr th {\n",
       "        vertical-align: top;\n",
       "    }\n",
       "\n",
       "    .dataframe thead th {\n",
       "        text-align: right;\n",
       "    }\n",
       "</style>\n",
       "<table border=\"1\" class=\"dataframe\">\n",
       "  <thead>\n",
       "    <tr style=\"text-align: right;\">\n",
       "      <th></th>\n",
       "      <th>ACTION</th>\n",
       "      <th>RESOURCE</th>\n",
       "      <th>MGR_ID</th>\n",
       "      <th>ROLE_ROLLUP_1</th>\n",
       "      <th>ROLE_ROLLUP_2</th>\n",
       "      <th>ROLE_DEPTNAME</th>\n",
       "      <th>ROLE_TITLE</th>\n",
       "      <th>ROLE_FAMILY_DESC</th>\n",
       "      <th>ROLE_FAMILY</th>\n",
       "      <th>ROLE_CODE</th>\n",
       "    </tr>\n",
       "  </thead>\n",
       "  <tbody>\n",
       "    <tr>\n",
       "      <th>count</th>\n",
       "      <td>32769.000000</td>\n",
       "      <td>32769.000000</td>\n",
       "      <td>32769.000000</td>\n",
       "      <td>32769.000000</td>\n",
       "      <td>32769.000000</td>\n",
       "      <td>32769.000000</td>\n",
       "      <td>32769.000000</td>\n",
       "      <td>32769.000000</td>\n",
       "      <td>32769.000000</td>\n",
       "      <td>32769.000000</td>\n",
       "    </tr>\n",
       "    <tr>\n",
       "      <th>mean</th>\n",
       "      <td>0.942110</td>\n",
       "      <td>42923.916171</td>\n",
       "      <td>25988.957979</td>\n",
       "      <td>116952.627788</td>\n",
       "      <td>118301.823156</td>\n",
       "      <td>118912.779914</td>\n",
       "      <td>125916.152644</td>\n",
       "      <td>170178.369648</td>\n",
       "      <td>183703.408893</td>\n",
       "      <td>119789.430132</td>\n",
       "    </tr>\n",
       "    <tr>\n",
       "      <th>std</th>\n",
       "      <td>0.233539</td>\n",
       "      <td>34173.892702</td>\n",
       "      <td>35928.031650</td>\n",
       "      <td>10875.563591</td>\n",
       "      <td>4551.588572</td>\n",
       "      <td>18961.322917</td>\n",
       "      <td>31036.465825</td>\n",
       "      <td>69509.462130</td>\n",
       "      <td>100488.407413</td>\n",
       "      <td>5784.275516</td>\n",
       "    </tr>\n",
       "    <tr>\n",
       "      <th>min</th>\n",
       "      <td>0.000000</td>\n",
       "      <td>0.000000</td>\n",
       "      <td>25.000000</td>\n",
       "      <td>4292.000000</td>\n",
       "      <td>23779.000000</td>\n",
       "      <td>4674.000000</td>\n",
       "      <td>117879.000000</td>\n",
       "      <td>4673.000000</td>\n",
       "      <td>3130.000000</td>\n",
       "      <td>117880.000000</td>\n",
       "    </tr>\n",
       "    <tr>\n",
       "      <th>25%</th>\n",
       "      <td>1.000000</td>\n",
       "      <td>20299.000000</td>\n",
       "      <td>4566.000000</td>\n",
       "      <td>117961.000000</td>\n",
       "      <td>118102.000000</td>\n",
       "      <td>118395.000000</td>\n",
       "      <td>118274.000000</td>\n",
       "      <td>117906.000000</td>\n",
       "      <td>118363.000000</td>\n",
       "      <td>118232.000000</td>\n",
       "    </tr>\n",
       "    <tr>\n",
       "      <th>50%</th>\n",
       "      <td>1.000000</td>\n",
       "      <td>35376.000000</td>\n",
       "      <td>13545.000000</td>\n",
       "      <td>117961.000000</td>\n",
       "      <td>118300.000000</td>\n",
       "      <td>118921.000000</td>\n",
       "      <td>118568.000000</td>\n",
       "      <td>128696.000000</td>\n",
       "      <td>119006.000000</td>\n",
       "      <td>118570.000000</td>\n",
       "    </tr>\n",
       "    <tr>\n",
       "      <th>75%</th>\n",
       "      <td>1.000000</td>\n",
       "      <td>74189.000000</td>\n",
       "      <td>42034.000000</td>\n",
       "      <td>117961.000000</td>\n",
       "      <td>118386.000000</td>\n",
       "      <td>120535.000000</td>\n",
       "      <td>120006.000000</td>\n",
       "      <td>235280.000000</td>\n",
       "      <td>290919.000000</td>\n",
       "      <td>119348.000000</td>\n",
       "    </tr>\n",
       "    <tr>\n",
       "      <th>max</th>\n",
       "      <td>1.000000</td>\n",
       "      <td>312153.000000</td>\n",
       "      <td>311696.000000</td>\n",
       "      <td>311178.000000</td>\n",
       "      <td>286791.000000</td>\n",
       "      <td>286792.000000</td>\n",
       "      <td>311867.000000</td>\n",
       "      <td>311867.000000</td>\n",
       "      <td>308574.000000</td>\n",
       "      <td>270691.000000</td>\n",
       "    </tr>\n",
       "  </tbody>\n",
       "</table>\n",
       "</div>"
      ],
      "text/plain": [
       "             ACTION       RESOURCE         MGR_ID  ROLE_ROLLUP_1  \\\n",
       "count  32769.000000   32769.000000   32769.000000   32769.000000   \n",
       "mean       0.942110   42923.916171   25988.957979  116952.627788   \n",
       "std        0.233539   34173.892702   35928.031650   10875.563591   \n",
       "min        0.000000       0.000000      25.000000    4292.000000   \n",
       "25%        1.000000   20299.000000    4566.000000  117961.000000   \n",
       "50%        1.000000   35376.000000   13545.000000  117961.000000   \n",
       "75%        1.000000   74189.000000   42034.000000  117961.000000   \n",
       "max        1.000000  312153.000000  311696.000000  311178.000000   \n",
       "\n",
       "       ROLE_ROLLUP_2  ROLE_DEPTNAME     ROLE_TITLE  ROLE_FAMILY_DESC  \\\n",
       "count   32769.000000   32769.000000   32769.000000      32769.000000   \n",
       "mean   118301.823156  118912.779914  125916.152644     170178.369648   \n",
       "std      4551.588572   18961.322917   31036.465825      69509.462130   \n",
       "min     23779.000000    4674.000000  117879.000000       4673.000000   \n",
       "25%    118102.000000  118395.000000  118274.000000     117906.000000   \n",
       "50%    118300.000000  118921.000000  118568.000000     128696.000000   \n",
       "75%    118386.000000  120535.000000  120006.000000     235280.000000   \n",
       "max    286791.000000  286792.000000  311867.000000     311867.000000   \n",
       "\n",
       "         ROLE_FAMILY      ROLE_CODE  \n",
       "count   32769.000000   32769.000000  \n",
       "mean   183703.408893  119789.430132  \n",
       "std    100488.407413    5784.275516  \n",
       "min      3130.000000  117880.000000  \n",
       "25%    118363.000000  118232.000000  \n",
       "50%    119006.000000  118570.000000  \n",
       "75%    290919.000000  119348.000000  \n",
       "max    308574.000000  270691.000000  "
      ]
     },
     "execution_count": 2,
     "metadata": {},
     "output_type": "execute_result"
    }
   ],
   "source": [
    "employee_file_path = ('../input/amazon-employee-access-challenge/train.csv')\n",
    "train_data = pd.read_csv(employee_file_path)\n",
    "train_data.describe()"
   ]
  },
  {
   "cell_type": "code",
   "execution_count": 3,
   "id": "b3fd4737",
   "metadata": {
    "execution": {
     "iopub.execute_input": "2022-02-14T16:42:56.640041Z",
     "iopub.status.busy": "2022-02-14T16:42:56.639367Z",
     "iopub.status.idle": "2022-02-14T16:42:56.651520Z",
     "shell.execute_reply": "2022-02-14T16:42:56.652014Z",
     "shell.execute_reply.started": "2021-11-07T14:02:18.224134Z"
    },
    "papermill": {
     "duration": 0.053624,
     "end_time": "2022-02-14T16:42:56.652184",
     "exception": false,
     "start_time": "2022-02-14T16:42:56.598560",
     "status": "completed"
    },
    "tags": []
   },
   "outputs": [
    {
     "data": {
      "text/html": [
       "<div>\n",
       "<style scoped>\n",
       "    .dataframe tbody tr th:only-of-type {\n",
       "        vertical-align: middle;\n",
       "    }\n",
       "\n",
       "    .dataframe tbody tr th {\n",
       "        vertical-align: top;\n",
       "    }\n",
       "\n",
       "    .dataframe thead th {\n",
       "        text-align: right;\n",
       "    }\n",
       "</style>\n",
       "<table border=\"1\" class=\"dataframe\">\n",
       "  <thead>\n",
       "    <tr style=\"text-align: right;\">\n",
       "      <th></th>\n",
       "      <th>ACTION</th>\n",
       "      <th>RESOURCE</th>\n",
       "      <th>MGR_ID</th>\n",
       "      <th>ROLE_ROLLUP_1</th>\n",
       "      <th>ROLE_ROLLUP_2</th>\n",
       "      <th>ROLE_DEPTNAME</th>\n",
       "      <th>ROLE_TITLE</th>\n",
       "      <th>ROLE_FAMILY_DESC</th>\n",
       "      <th>ROLE_FAMILY</th>\n",
       "      <th>ROLE_CODE</th>\n",
       "    </tr>\n",
       "  </thead>\n",
       "  <tbody>\n",
       "    <tr>\n",
       "      <th>0</th>\n",
       "      <td>1</td>\n",
       "      <td>39353</td>\n",
       "      <td>85475</td>\n",
       "      <td>117961</td>\n",
       "      <td>118300</td>\n",
       "      <td>123472</td>\n",
       "      <td>117905</td>\n",
       "      <td>117906</td>\n",
       "      <td>290919</td>\n",
       "      <td>117908</td>\n",
       "    </tr>\n",
       "    <tr>\n",
       "      <th>1</th>\n",
       "      <td>1</td>\n",
       "      <td>17183</td>\n",
       "      <td>1540</td>\n",
       "      <td>117961</td>\n",
       "      <td>118343</td>\n",
       "      <td>123125</td>\n",
       "      <td>118536</td>\n",
       "      <td>118536</td>\n",
       "      <td>308574</td>\n",
       "      <td>118539</td>\n",
       "    </tr>\n",
       "    <tr>\n",
       "      <th>2</th>\n",
       "      <td>1</td>\n",
       "      <td>36724</td>\n",
       "      <td>14457</td>\n",
       "      <td>118219</td>\n",
       "      <td>118220</td>\n",
       "      <td>117884</td>\n",
       "      <td>117879</td>\n",
       "      <td>267952</td>\n",
       "      <td>19721</td>\n",
       "      <td>117880</td>\n",
       "    </tr>\n",
       "    <tr>\n",
       "      <th>3</th>\n",
       "      <td>1</td>\n",
       "      <td>36135</td>\n",
       "      <td>5396</td>\n",
       "      <td>117961</td>\n",
       "      <td>118343</td>\n",
       "      <td>119993</td>\n",
       "      <td>118321</td>\n",
       "      <td>240983</td>\n",
       "      <td>290919</td>\n",
       "      <td>118322</td>\n",
       "    </tr>\n",
       "    <tr>\n",
       "      <th>4</th>\n",
       "      <td>1</td>\n",
       "      <td>42680</td>\n",
       "      <td>5905</td>\n",
       "      <td>117929</td>\n",
       "      <td>117930</td>\n",
       "      <td>119569</td>\n",
       "      <td>119323</td>\n",
       "      <td>123932</td>\n",
       "      <td>19793</td>\n",
       "      <td>119325</td>\n",
       "    </tr>\n",
       "  </tbody>\n",
       "</table>\n",
       "</div>"
      ],
      "text/plain": [
       "   ACTION  RESOURCE  MGR_ID  ROLE_ROLLUP_1  ROLE_ROLLUP_2  ROLE_DEPTNAME  \\\n",
       "0       1     39353   85475         117961         118300         123472   \n",
       "1       1     17183    1540         117961         118343         123125   \n",
       "2       1     36724   14457         118219         118220         117884   \n",
       "3       1     36135    5396         117961         118343         119993   \n",
       "4       1     42680    5905         117929         117930         119569   \n",
       "\n",
       "   ROLE_TITLE  ROLE_FAMILY_DESC  ROLE_FAMILY  ROLE_CODE  \n",
       "0      117905            117906       290919     117908  \n",
       "1      118536            118536       308574     118539  \n",
       "2      117879            267952        19721     117880  \n",
       "3      118321            240983       290919     118322  \n",
       "4      119323            123932        19793     119325  "
      ]
     },
     "execution_count": 3,
     "metadata": {},
     "output_type": "execute_result"
    }
   ],
   "source": [
    "train_data.head()"
   ]
  },
  {
   "cell_type": "markdown",
   "id": "d1571312",
   "metadata": {
    "papermill": {
     "duration": 0.039863,
     "end_time": "2022-02-14T16:42:56.731881",
     "exception": false,
     "start_time": "2022-02-14T16:42:56.692018",
     "status": "completed"
    },
    "tags": []
   },
   "source": [
    "Not much information about which parameters to choose can be inferred from the training data at first glance."
   ]
  },
  {
   "cell_type": "markdown",
   "id": "65239ff8",
   "metadata": {
    "papermill": {
     "duration": 0.0383,
     "end_time": "2022-02-14T16:42:56.810031",
     "exception": false,
     "start_time": "2022-02-14T16:42:56.771731",
     "status": "completed"
    },
    "tags": []
   },
   "source": [
    "# **Data Exploration**\n",
    "After looking at the training data, it is clear that the \"ACTION\" column is our target variable. Let's have a deeper look into our data."
   ]
  },
  {
   "cell_type": "code",
   "execution_count": 4,
   "id": "6aa7f4f1",
   "metadata": {
    "execution": {
     "iopub.execute_input": "2022-02-14T16:42:56.891631Z",
     "iopub.status.busy": "2022-02-14T16:42:56.890982Z",
     "iopub.status.idle": "2022-02-14T16:42:56.905978Z",
     "shell.execute_reply": "2022-02-14T16:42:56.906630Z",
     "shell.execute_reply.started": "2021-11-07T14:02:18.238409Z"
    },
    "papermill": {
     "duration": 0.058107,
     "end_time": "2022-02-14T16:42:56.906802",
     "exception": false,
     "start_time": "2022-02-14T16:42:56.848695",
     "status": "completed"
    },
    "tags": []
   },
   "outputs": [
    {
     "name": "stdout",
     "output_type": "stream",
     "text": [
      "<class 'pandas.core.frame.DataFrame'>\n",
      "RangeIndex: 32769 entries, 0 to 32768\n",
      "Data columns (total 10 columns):\n",
      " #   Column            Non-Null Count  Dtype\n",
      "---  ------            --------------  -----\n",
      " 0   ACTION            32769 non-null  int64\n",
      " 1   RESOURCE          32769 non-null  int64\n",
      " 2   MGR_ID            32769 non-null  int64\n",
      " 3   ROLE_ROLLUP_1     32769 non-null  int64\n",
      " 4   ROLE_ROLLUP_2     32769 non-null  int64\n",
      " 5   ROLE_DEPTNAME     32769 non-null  int64\n",
      " 6   ROLE_TITLE        32769 non-null  int64\n",
      " 7   ROLE_FAMILY_DESC  32769 non-null  int64\n",
      " 8   ROLE_FAMILY       32769 non-null  int64\n",
      " 9   ROLE_CODE         32769 non-null  int64\n",
      "dtypes: int64(10)\n",
      "memory usage: 2.5 MB\n"
     ]
    }
   ],
   "source": [
    "train_data.info()"
   ]
  },
  {
   "cell_type": "markdown",
   "id": "f38b25de",
   "metadata": {
    "papermill": {
     "duration": 0.039011,
     "end_time": "2022-02-14T16:42:56.985532",
     "exception": false,
     "start_time": "2022-02-14T16:42:56.946521",
     "status": "completed"
    },
    "tags": []
   },
   "source": [
    "As all the data is already in numerical format and has no missing values, we do not require any complex pre-processing of data. "
   ]
  },
  {
   "cell_type": "code",
   "execution_count": 5,
   "id": "cb50ce5d",
   "metadata": {
    "execution": {
     "iopub.execute_input": "2022-02-14T16:42:57.068942Z",
     "iopub.status.busy": "2022-02-14T16:42:57.068284Z",
     "iopub.status.idle": "2022-02-14T16:42:57.076051Z",
     "shell.execute_reply": "2022-02-14T16:42:57.075544Z",
     "shell.execute_reply.started": "2021-11-07T14:02:18.260726Z"
    },
    "papermill": {
     "duration": 0.051106,
     "end_time": "2022-02-14T16:42:57.076192",
     "exception": false,
     "start_time": "2022-02-14T16:42:57.025086",
     "status": "completed"
    },
    "tags": []
   },
   "outputs": [
    {
     "data": {
      "text/plain": [
       "1    30872\n",
       "0     1897\n",
       "Name: ACTION, dtype: int64"
      ]
     },
     "execution_count": 5,
     "metadata": {},
     "output_type": "execute_result"
    }
   ],
   "source": [
    "train_data.ACTION.value_counts()"
   ]
  },
  {
   "cell_type": "code",
   "execution_count": 6,
   "id": "cce0a2b7",
   "metadata": {
    "execution": {
     "iopub.execute_input": "2022-02-14T16:42:57.158089Z",
     "iopub.status.busy": "2022-02-14T16:42:57.157442Z",
     "iopub.status.idle": "2022-02-14T16:42:57.325118Z",
     "shell.execute_reply": "2022-02-14T16:42:57.324555Z",
     "shell.execute_reply.started": "2021-11-07T14:02:18.271425Z"
    },
    "papermill": {
     "duration": 0.209647,
     "end_time": "2022-02-14T16:42:57.325252",
     "exception": false,
     "start_time": "2022-02-14T16:42:57.115605",
     "status": "completed"
    },
    "tags": []
   },
   "outputs": [
    {
     "data": {
      "image/png": "[encoded data removed]",
      "text/plain": [
       "<Figure size 432x288 with 1 Axes>"
      ]
     },
     "metadata": {},
     "output_type": "display_data"
    }
   ],
   "source": [
    "sns.set(style=\"white\")\n",
    "sns.set(style=\"whitegrid\", color_codes=True)\n",
    "sns.countplot(x='ACTION',data=train_data)\n",
    "plt.show()"
   ]
  },
  {
   "cell_type": "markdown",
   "id": "33b97a10",
   "metadata": {
    "papermill": {
     "duration": 0.040085,
     "end_time": "2022-02-14T16:42:57.405897",
     "exception": false,
     "start_time": "2022-02-14T16:42:57.365812",
     "status": "completed"
    },
    "tags": []
   },
   "source": [
    "From the above analysis we can see that most requests are approved.\n",
    "\n",
    "**Request Approved Rate ~ 94%**\n",
    "\n",
    "\n",
    "**Request  Denied  Rate ~  6%**"
   ]
  },
  {
   "cell_type": "code",
   "execution_count": 7,
   "id": "39475446",
   "metadata": {
    "execution": {
     "iopub.execute_input": "2022-02-14T16:42:57.492051Z",
     "iopub.status.busy": "2022-02-14T16:42:57.491357Z",
     "iopub.status.idle": "2022-02-14T16:42:57.499429Z",
     "shell.execute_reply": "2022-02-14T16:42:57.500061Z",
     "shell.execute_reply.started": "2021-11-07T14:02:18.440112Z"
    },
    "papermill": {
     "duration": 0.053405,
     "end_time": "2022-02-14T16:42:57.500241",
     "exception": false,
     "start_time": "2022-02-14T16:42:57.446836",
     "status": "completed"
    },
    "tags": []
   },
   "outputs": [
    {
     "data": {
      "text/plain": [
       "4675     839\n",
       "79092    484\n",
       "75078    409\n",
       "25993    409\n",
       "3853     404\n",
       "        ... \n",
       "74051      1\n",
       "33079      1\n",
       "98935      1\n",
       "25227      1\n",
       "16376      1\n",
       "Name: RESOURCE, Length: 7518, dtype: int64"
      ]
     },
     "execution_count": 7,
     "metadata": {},
     "output_type": "execute_result"
    }
   ],
   "source": [
    "train_data['RESOURCE'].value_counts().sort_values(ascending=False)"
   ]
  },
  {
   "cell_type": "markdown",
   "id": "72173dc2",
   "metadata": {
    "papermill": {
     "duration": 0.040241,
     "end_time": "2022-02-14T16:42:57.580706",
     "exception": false,
     "start_time": "2022-02-14T16:42:57.540465",
     "status": "completed"
    },
    "tags": []
   },
   "source": [
    "Certain Resources are sought to be accessed much more than others."
   ]
  },
  {
   "cell_type": "code",
   "execution_count": 8,
   "id": "0f571fe1",
   "metadata": {
    "execution": {
     "iopub.execute_input": "2022-02-14T16:42:57.666212Z",
     "iopub.status.busy": "2022-02-14T16:42:57.665234Z",
     "iopub.status.idle": "2022-02-14T16:42:57.682047Z",
     "shell.execute_reply": "2022-02-14T16:42:57.682622Z",
     "shell.execute_reply.started": "2021-11-07T14:02:18.455922Z"
    },
    "papermill": {
     "duration": 0.061239,
     "end_time": "2022-02-14T16:42:57.682795",
     "exception": false,
     "start_time": "2022-02-14T16:42:57.621556",
     "status": "completed"
    },
    "tags": []
   },
   "outputs": [
    {
     "data": {
      "text/plain": [
       "ACTION                 2\n",
       "RESOURCE            7518\n",
       "MGR_ID              4243\n",
       "ROLE_ROLLUP_1        128\n",
       "ROLE_ROLLUP_2        177\n",
       "ROLE_DEPTNAME        449\n",
       "ROLE_TITLE           343\n",
       "ROLE_FAMILY_DESC    2358\n",
       "ROLE_FAMILY           67\n",
       "ROLE_CODE            343\n",
       "dtype: int64"
      ]
     },
     "execution_count": 8,
     "metadata": {},
     "output_type": "execute_result"
    }
   ],
   "source": [
    "train_data.nunique() #checking number of unique values for each feature"
   ]
  },
  {
   "cell_type": "markdown",
   "id": "885806e6",
   "metadata": {
    "papermill": {
     "duration": 0.041243,
     "end_time": "2022-02-14T16:42:57.765083",
     "exception": false,
     "start_time": "2022-02-14T16:42:57.723840",
     "status": "completed"
    },
    "tags": []
   },
   "source": [
    "The columns **'RESOURCE' , 'MGR_ID' , 'ROLE_FAMILY_DESC'** have a lot of unique values. But more interstingly, the columns **'ROLE_TITLE' and 'ROLE_CODE'** have the same number of unique values!"
   ]
  },
  {
   "cell_type": "code",
   "execution_count": 9,
   "id": "f3343a52",
   "metadata": {
    "execution": {
     "iopub.execute_input": "2022-02-14T16:42:57.851220Z",
     "iopub.status.busy": "2022-02-14T16:42:57.850226Z",
     "iopub.status.idle": "2022-02-14T16:43:03.970009Z",
     "shell.execute_reply": "2022-02-14T16:43:03.970519Z",
     "shell.execute_reply.started": "2021-11-07T14:02:18.476429Z"
    },
    "papermill": {
     "duration": 6.164888,
     "end_time": "2022-02-14T16:43:03.970711",
     "exception": false,
     "start_time": "2022-02-14T16:42:57.805823",
     "status": "completed"
    },
    "tags": []
   },
   "outputs": [
    {
     "data": {
      "text/plain": [
       "<seaborn.axisgrid.FacetGrid at 0x7f8390379c10>"
      ]
     },
     "execution_count": 9,
     "metadata": {},
     "output_type": "execute_result"
    },
    {
     "data": {
      "image/png": "[encoded data removed]",
      "text/plain": [
       "<Figure size 414.3x360 with 1 Axes>"
      ]
     },
     "metadata": {},
     "output_type": "display_data"
    },
    {
     "data": {
      "image/png": "[encoded data removed]",
      "text/plain": [
       "<Figure size 414.3x360 with 1 Axes>"
      ]
     },
     "metadata": {},
     "output_type": "display_data"
    }
   ],
   "source": [
    "sns.relplot(x='ROLE_TITLE',y='RESOURCE',hue='ACTION',data=train_data)\n",
    "sns.relplot(x='ROLE_CODE',y='RESOURCE',hue='ACTION',data=train_data)"
   ]
  },
  {
   "cell_type": "markdown",
   "id": "0ce16297",
   "metadata": {
    "papermill": {
     "duration": 0.045106,
     "end_time": "2022-02-14T16:43:04.061307",
     "exception": false,
     "start_time": "2022-02-14T16:43:04.016201",
     "status": "completed"
    },
    "tags": []
   },
   "source": [
    "If we plot these two features against 'RESOURCE', we get strikingly similar plots. Let's analyze further to see if these features have a 1:1 relationship."
   ]
  },
  {
   "cell_type": "code",
   "execution_count": 10,
   "id": "394521dd",
   "metadata": {
    "execution": {
     "iopub.execute_input": "2022-02-14T16:43:04.154735Z",
     "iopub.status.busy": "2022-02-14T16:43:04.153751Z",
     "iopub.status.idle": "2022-02-14T16:43:05.094221Z",
     "shell.execute_reply": "2022-02-14T16:43:05.094804Z",
     "shell.execute_reply.started": "2021-11-07T14:02:24.590994Z"
    },
    "papermill": {
     "duration": 0.989101,
     "end_time": "2022-02-14T16:43:05.094989",
     "exception": false,
     "start_time": "2022-02-14T16:43:04.105888",
     "status": "completed"
    },
    "tags": []
   },
   "outputs": [
    {
     "data": {
      "image/png": "[encoded data removed]",
      "text/plain": [
       "<Figure size 800x600 with 2 Axes>"
      ]
     },
     "metadata": {},
     "output_type": "display_data"
    }
   ],
   "source": [
    "#We will use a correlation matrix\n",
    "from matplotlib.pyplot import figure  #to increase the size of the plot\n",
    "figure(figsize=(8, 6), dpi=100)\n",
    "corr_matrix=round(train_data.corr(),3) #correlation matrix rounded off to 3 decimals\n",
    "sns.heatmap(corr_matrix,annot=True)\n",
    "plt.show()"
   ]
  },
  {
   "cell_type": "markdown",
   "id": "0d3e3baf",
   "metadata": {
    "papermill": {
     "duration": 0.049408,
     "end_time": "2022-02-14T16:43:05.194441",
     "exception": false,
     "start_time": "2022-02-14T16:43:05.145033",
     "status": "completed"
    },
    "tags": []
   },
   "source": [
    "As we can see that 'ROLE_CODE' and 'ROLE_TITLE' have a marginal correlation but significant when compared to rest of the columns.But still, it is not enough to drop one of them as features."
   ]
  },
  {
   "cell_type": "code",
   "execution_count": 11,
   "id": "4cc09ad3",
   "metadata": {
    "execution": {
     "iopub.execute_input": "2022-02-14T16:43:05.295038Z",
     "iopub.status.busy": "2022-02-14T16:43:05.294329Z",
     "iopub.status.idle": "2022-02-14T16:43:05.297652Z",
     "shell.execute_reply": "2022-02-14T16:43:05.298141Z",
     "shell.execute_reply.started": "2021-11-07T14:02:25.526573Z"
    },
    "papermill": {
     "duration": 0.055098,
     "end_time": "2022-02-14T16:43:05.298302",
     "exception": false,
     "start_time": "2022-02-14T16:43:05.243204",
     "status": "completed"
    },
    "tags": []
   },
   "outputs": [],
   "source": [
    "#sns.pairplot(data=train_data,hue='ACTION', kind='scatter')"
   ]
  },
  {
   "cell_type": "markdown",
   "id": "342e7a08",
   "metadata": {
    "papermill": {
     "duration": 0.048492,
     "end_time": "2022-02-14T16:43:05.395682",
     "exception": false,
     "start_time": "2022-02-14T16:43:05.347190",
     "status": "completed"
    },
    "tags": []
   },
   "source": [
    "# **Setting up the input features and target variable**"
   ]
  },
  {
   "cell_type": "code",
   "execution_count": 12,
   "id": "42cc3995",
   "metadata": {
    "execution": {
     "iopub.execute_input": "2022-02-14T16:43:05.497580Z",
     "iopub.status.busy": "2022-02-14T16:43:05.496924Z",
     "iopub.status.idle": "2022-02-14T16:43:05.502542Z",
     "shell.execute_reply": "2022-02-14T16:43:05.503101Z",
     "shell.execute_reply.started": "2021-11-07T14:02:25.531765Z"
    },
    "papermill": {
     "duration": 0.057748,
     "end_time": "2022-02-14T16:43:05.503272",
     "exception": false,
     "start_time": "2022-02-14T16:43:05.445524",
     "status": "completed"
    },
    "tags": []
   },
   "outputs": [],
   "source": [
    "y = train_data.ACTION  #setting the target variable\n",
    "X = train_data.drop('ACTION',axis=1) #setting rest of the columns as input features"
   ]
  },
  {
   "cell_type": "markdown",
   "id": "9a7aabe0",
   "metadata": {
    "papermill": {
     "duration": 0.049017,
     "end_time": "2022-02-14T16:43:05.601379",
     "exception": false,
     "start_time": "2022-02-14T16:43:05.552362",
     "status": "completed"
    },
    "tags": []
   },
   "source": [
    "# **Trying a Logistic Regression Model**"
   ]
  },
  {
   "cell_type": "code",
   "execution_count": 13,
   "id": "7ed36310",
   "metadata": {
    "execution": {
     "iopub.execute_input": "2022-02-14T16:43:05.704835Z",
     "iopub.status.busy": "2022-02-14T16:43:05.704198Z",
     "iopub.status.idle": "2022-02-14T16:43:06.144775Z",
     "shell.execute_reply": "2022-02-14T16:43:06.145681Z",
     "shell.execute_reply.started": "2021-11-07T14:02:25.543902Z"
    },
    "papermill": {
     "duration": 0.493182,
     "end_time": "2022-02-14T16:43:06.145983",
     "exception": false,
     "start_time": "2022-02-14T16:43:05.652801",
     "status": "completed"
    },
    "tags": []
   },
   "outputs": [],
   "source": [
    "from sklearn.linear_model import LogisticRegression\n",
    "from sklearn.model_selection import train_test_split\n",
    "LR_model = LogisticRegression(random_state=0)\n",
    "#splitting data into training and test data\n",
    "X_train,X_test,y_train,y_test = train_test_split(X,y,random_state=0)\n",
    "LR_model.fit(X_train,y_train)\n",
    "y_pred = LR_model.predict(X_test)"
   ]
  },
  {
   "cell_type": "code",
   "execution_count": 14,
   "id": "7422433c",
   "metadata": {
    "execution": {
     "iopub.execute_input": "2022-02-14T16:43:06.302078Z",
     "iopub.status.busy": "2022-02-14T16:43:06.300998Z",
     "iopub.status.idle": "2022-02-14T16:43:06.307179Z",
     "shell.execute_reply": "2022-02-14T16:43:06.306603Z",
     "shell.execute_reply.started": "2021-11-07T14:02:25.958146Z"
    },
    "papermill": {
     "duration": 0.0725,
     "end_time": "2022-02-14T16:43:06.307313",
     "exception": false,
     "start_time": "2022-02-14T16:43:06.234813",
     "status": "completed"
    },
    "tags": []
   },
   "outputs": [
    {
     "name": "stdout",
     "output_type": "stream",
     "text": [
      "Accuracy of the model is approximately 94.41%\n"
     ]
    }
   ],
   "source": [
    "from sklearn import metrics \n",
    "accuracy = metrics.accuracy_score(y_test, y_pred)\n",
    "accuracy_percentage = 100 * accuracy\n",
    "ans = ('Accuracy of the model is approximately %0.2f%%')\n",
    "print(ans%(accuracy_percentage))"
   ]
  },
  {
   "cell_type": "markdown",
   "id": "a754baed",
   "metadata": {
    "papermill": {
     "duration": 0.048578,
     "end_time": "2022-02-14T16:43:06.405225",
     "exception": false,
     "start_time": "2022-02-14T16:43:06.356647",
     "status": "completed"
    },
    "tags": []
   },
   "source": [
    "It is quite suspicious that the approval rate is 94% and the model accuracy is close to 94%. Let us further analyze the data to see if something is fishy."
   ]
  },
  {
   "cell_type": "code",
   "execution_count": 15,
   "id": "667608be",
   "metadata": {
    "execution": {
     "iopub.execute_input": "2022-02-14T16:43:06.506924Z",
     "iopub.status.busy": "2022-02-14T16:43:06.506284Z",
     "iopub.status.idle": "2022-02-14T16:43:06.825474Z",
     "shell.execute_reply": "2022-02-14T16:43:06.824659Z",
     "shell.execute_reply.started": "2021-11-07T14:02:25.972908Z"
    },
    "papermill": {
     "duration": 0.37069,
     "end_time": "2022-02-14T16:43:06.825630",
     "exception": false,
     "start_time": "2022-02-14T16:43:06.454940",
     "status": "completed"
    },
    "tags": []
   },
   "outputs": [
    {
     "data": {
      "text/plain": [
       "Text(30.5, 0.5, 'Actual')"
      ]
     },
     "execution_count": 15,
     "metadata": {},
     "output_type": "execute_result"
    },
    {
     "data": {
      "image/png": "[encoded data removed]",
      "text/plain": [
       "<Figure size 432x288 with 2 Axes>"
      ]
     },
     "metadata": {},
     "output_type": "display_data"
    }
   ],
   "source": [
    "from sklearn.metrics import confusion_matrix\n",
    "from sklearn.metrics import classification_report\n",
    "LR_conf_matrix = confusion_matrix(y_test,y_pred)\n",
    "sns.heatmap(LR_conf_matrix,annot=True,fmt='g',cmap='Blues')\n",
    "plt.xlabel('Predicted')\n",
    "plt.ylabel('Actual')"
   ]
  },
  {
   "cell_type": "code",
   "execution_count": 16,
   "id": "9346d1f5",
   "metadata": {
    "execution": {
     "iopub.execute_input": "2022-02-14T16:43:06.940284Z",
     "iopub.status.busy": "2022-02-14T16:43:06.939261Z",
     "iopub.status.idle": "2022-02-14T16:43:06.945906Z",
     "shell.execute_reply": "2022-02-14T16:43:06.946456Z",
     "shell.execute_reply.started": "2021-11-07T14:02:26.309822Z"
    },
    "papermill": {
     "duration": 0.066106,
     "end_time": "2022-02-14T16:43:06.946630",
     "exception": false,
     "start_time": "2022-02-14T16:43:06.880524",
     "status": "completed"
    },
    "tags": []
   },
   "outputs": [
    {
     "name": "stdout",
     "output_type": "stream",
     "text": [
      "True Positives = 7735\n",
      "False Positives = 458\n",
      "False Negatives = 0\n",
      "True Negatives = 0\n"
     ]
    }
   ],
   "source": [
    "print('True Positives =',LR_conf_matrix[1,1])\n",
    "print('False Positives =',LR_conf_matrix[0,1])\n",
    "print('False Negatives =',LR_conf_matrix[1,0])\n",
    "print('True Negatives =',LR_conf_matrix[0,0])"
   ]
  },
  {
   "cell_type": "code",
   "execution_count": 17,
   "id": "439dba27",
   "metadata": {
    "execution": {
     "iopub.execute_input": "2022-02-14T16:43:07.055084Z",
     "iopub.status.busy": "2022-02-14T16:43:07.051255Z",
     "iopub.status.idle": "2022-02-14T16:43:07.317764Z",
     "shell.execute_reply": "2022-02-14T16:43:07.317199Z",
     "shell.execute_reply.started": "2021-11-07T14:02:26.319726Z"
    },
    "papermill": {
     "duration": 0.320715,
     "end_time": "2022-02-14T16:43:07.317913",
     "exception": false,
     "start_time": "2022-02-14T16:43:06.997198",
     "status": "completed"
    },
    "tags": []
   },
   "outputs": [
    {
     "data": {
      "text/plain": [
       "Text(0.5, 1.0, 'ROC curve for Logitstic Regression AUC: 0.50)')"
      ]
     },
     "execution_count": 17,
     "metadata": {},
     "output_type": "execute_result"
    },
    {
     "data": {
      "image/png": "[encoded data removed]",
      "text/plain": [
       "<Figure size 432x288 with 1 Axes>"
      ]
     },
     "metadata": {},
     "output_type": "display_data"
    }
   ],
   "source": [
    "from sklearn.metrics import roc_curve\n",
    "from sklearn.metrics import roc_auc_score\n",
    "fpr1,tpr1,threshold1 = roc_curve(y_test,y_pred)\n",
    "plt.plot([0,1],[0,1],color='blue',linestyle='--')\n",
    "plt.plot(fpr1,tpr1,color='red')\n",
    "plt.xlabel('False postive rate')\n",
    "plt.ylabel('True positive rate')\n",
    "auc_score1=roc_auc_score(y_test,y_pred)\n",
    "plt.title('ROC curve for Logitstic Regression AUC: {0:.2f})'.format(auc_score1))"
   ]
  },
  {
   "cell_type": "markdown",
   "id": "970695c1",
   "metadata": {
    "papermill": {
     "duration": 0.05628,
     "end_time": "2022-02-14T16:43:07.429323",
     "exception": false,
     "start_time": "2022-02-14T16:43:07.373043",
     "status": "completed"
    },
    "tags": []
   },
   "source": [
    "Here we can cleary see that the Logistic Regression model is very good at predicting approved requests ('1') but fails to predict any denied request ('0') .\n",
    "\n",
    "Also, it has a very poor AUC score of 0.50!\n",
    "\n",
    "Therefore, its accuracy of almost 94% is misleading as we suspected. \n",
    "\n",
    "Let us try a different model that might work better."
   ]
  },
  {
   "cell_type": "markdown",
   "id": "d851c3ef",
   "metadata": {
    "papermill": {
     "duration": 0.05274,
     "end_time": "2022-02-14T16:43:07.539555",
     "exception": false,
     "start_time": "2022-02-14T16:43:07.486815",
     "status": "completed"
    },
    "tags": []
   },
   "source": [
    "# **Trying A Decision Tree Classifier**"
   ]
  },
  {
   "cell_type": "code",
   "execution_count": 18,
   "id": "04fab203",
   "metadata": {
    "execution": {
     "iopub.execute_input": "2022-02-14T16:43:07.647317Z",
     "iopub.status.busy": "2022-02-14T16:43:07.646682Z",
     "iopub.status.idle": "2022-02-14T16:43:07.884048Z",
     "shell.execute_reply": "2022-02-14T16:43:07.884612Z",
     "shell.execute_reply.started": "2021-11-07T14:02:26.553051Z"
    },
    "papermill": {
     "duration": 0.29302,
     "end_time": "2022-02-14T16:43:07.884816",
     "exception": false,
     "start_time": "2022-02-14T16:43:07.591796",
     "status": "completed"
    },
    "tags": []
   },
   "outputs": [],
   "source": [
    "from sklearn.tree import DecisionTreeClassifier\n",
    "dtc_model = DecisionTreeClassifier(random_state=0)\n",
    "dtc_model.fit(X_train,y_train)\n",
    "y_dtc_pred = dtc_model.predict(X_test)"
   ]
  },
  {
   "cell_type": "code",
   "execution_count": 19,
   "id": "ad4da92d",
   "metadata": {
    "execution": {
     "iopub.execute_input": "2022-02-14T16:43:07.995263Z",
     "iopub.status.busy": "2022-02-14T16:43:07.992975Z",
     "iopub.status.idle": "2022-02-14T16:43:08.000941Z",
     "shell.execute_reply": "2022-02-14T16:43:08.001686Z",
     "shell.execute_reply.started": "2021-11-07T14:02:26.781073Z"
    },
    "papermill": {
     "duration": 0.06428,
     "end_time": "2022-02-14T16:43:08.001869",
     "exception": false,
     "start_time": "2022-02-14T16:43:07.937589",
     "status": "completed"
    },
    "tags": []
   },
   "outputs": [
    {
     "name": "stdout",
     "output_type": "stream",
     "text": [
      "Accuracy of the model is approximately 92.41%\n"
     ]
    }
   ],
   "source": [
    "ans1 = ('Accuracy of the model is approximately %0.2f%%')\n",
    "print(ans1%(100*(metrics.accuracy_score(y_test, y_dtc_pred))))"
   ]
  },
  {
   "cell_type": "markdown",
   "id": "54afd295",
   "metadata": {
    "papermill": {
     "duration": 0.054108,
     "end_time": "2022-02-14T16:43:08.108844",
     "exception": false,
     "start_time": "2022-02-14T16:43:08.054736",
     "status": "completed"
    },
    "tags": []
   },
   "source": [
    "Well, the accuracy is slightly lower than the Logistic Regression Model, but let's dig a little deeper."
   ]
  },
  {
   "cell_type": "code",
   "execution_count": 20,
   "id": "3ea84543",
   "metadata": {
    "execution": {
     "iopub.execute_input": "2022-02-14T16:43:08.220788Z",
     "iopub.status.busy": "2022-02-14T16:43:08.219744Z",
     "iopub.status.idle": "2022-02-14T16:43:08.515009Z",
     "shell.execute_reply": "2022-02-14T16:43:08.514061Z",
     "shell.execute_reply.started": "2021-11-07T14:02:26.79031Z"
    },
    "papermill": {
     "duration": 0.352003,
     "end_time": "2022-02-14T16:43:08.515180",
     "exception": false,
     "start_time": "2022-02-14T16:43:08.163177",
     "status": "completed"
    },
    "tags": []
   },
   "outputs": [
    {
     "data": {
      "text/plain": [
       "Text(0.5, 12.5, 'Predicted')"
      ]
     },
     "execution_count": 20,
     "metadata": {},
     "output_type": "execute_result"
    },
    {
     "data": {
      "image/png": "[encoded data removed]",
      "text/plain": [
       "<Figure size 432x288 with 2 Axes>"
      ]
     },
     "metadata": {},
     "output_type": "display_data"
    }
   ],
   "source": [
    "dtc_conf_matrix = confusion_matrix(y_test,y_dtc_pred)\n",
    "sns.heatmap(dtc_conf_matrix,annot=True,fmt='g',cmap='Reds')\n",
    "plt.ylabel('Actual')\n",
    "plt.xlabel('Predicted')"
   ]
  },
  {
   "cell_type": "code",
   "execution_count": 21,
   "id": "2b51b3f0",
   "metadata": {
    "execution": {
     "iopub.execute_input": "2022-02-14T16:43:08.633118Z",
     "iopub.status.busy": "2022-02-14T16:43:08.632087Z",
     "iopub.status.idle": "2022-02-14T16:43:08.640108Z",
     "shell.execute_reply": "2022-02-14T16:43:08.640687Z",
     "shell.execute_reply.started": "2021-11-07T14:02:27.083605Z"
    },
    "papermill": {
     "duration": 0.066307,
     "end_time": "2022-02-14T16:43:08.640865",
     "exception": false,
     "start_time": "2022-02-14T16:43:08.574558",
     "status": "completed"
    },
    "tags": []
   },
   "outputs": [
    {
     "name": "stdout",
     "output_type": "stream",
     "text": [
      "True Positives = 7385\n",
      "False Positives = 272\n",
      "False Negatives = 350\n",
      "True Negatives = 186\n"
     ]
    }
   ],
   "source": [
    "print('True Positives =',dtc_conf_matrix[1,1])\n",
    "print('False Positives =',dtc_conf_matrix[0,1])\n",
    "print('False Negatives =',dtc_conf_matrix[1,0])\n",
    "print('True Negatives =',dtc_conf_matrix[0,0])"
   ]
  },
  {
   "cell_type": "code",
   "execution_count": 22,
   "id": "af4128c7",
   "metadata": {
    "execution": {
     "iopub.execute_input": "2022-02-14T16:43:08.753780Z",
     "iopub.status.busy": "2022-02-14T16:43:08.753023Z",
     "iopub.status.idle": "2022-02-14T16:43:08.776578Z",
     "shell.execute_reply": "2022-02-14T16:43:08.776005Z",
     "shell.execute_reply.started": "2021-11-07T14:02:27.09281Z"
    },
    "papermill": {
     "duration": 0.08135,
     "end_time": "2022-02-14T16:43:08.776725",
     "exception": false,
     "start_time": "2022-02-14T16:43:08.695375",
     "status": "completed"
    },
    "tags": []
   },
   "outputs": [
    {
     "name": "stdout",
     "output_type": "stream",
     "text": [
      "              precision    recall  f1-score   support\n",
      "\n",
      "           0       0.35      0.41      0.37       458\n",
      "           1       0.96      0.95      0.96      7735\n",
      "\n",
      "    accuracy                           0.92      8193\n",
      "   macro avg       0.66      0.68      0.67      8193\n",
      "weighted avg       0.93      0.92      0.93      8193\n",
      "\n"
     ]
    }
   ],
   "source": [
    "dtc_classification_report = classification_report(y_test,y_dtc_pred)\n",
    "print(dtc_classification_report)"
   ]
  },
  {
   "cell_type": "markdown",
   "id": "08685944",
   "metadata": {
    "papermill": {
     "duration": 0.055675,
     "end_time": "2022-02-14T16:43:08.887521",
     "exception": false,
     "start_time": "2022-02-14T16:43:08.831846",
     "status": "completed"
    },
    "tags": []
   },
   "source": [
    "So we can see that the Decision Tree Classifier clearly works much better than the Logistic Regression Model. Therefore, we can say that accuracy is not a good measure of the efficiency of the models in this case.\n",
    "\n",
    "The DTC model has a **very high precision (~ 96%)** in predicting approved requests ('1') and we are able to predict most approved requests correctly **(Recall ~ 95%)**.\n",
    "\n",
    "It still has **average precision in predicting denied requests (~35%)**, but still a major improvement over the Logistic Regression Model."
   ]
  },
  {
   "cell_type": "code",
   "execution_count": 23,
   "id": "c20322e3",
   "metadata": {
    "execution": {
     "iopub.execute_input": "2022-02-14T16:43:09.003661Z",
     "iopub.status.busy": "2022-02-14T16:43:09.002969Z",
     "iopub.status.idle": "2022-02-14T16:43:09.235264Z",
     "shell.execute_reply": "2022-02-14T16:43:09.235769Z",
     "shell.execute_reply.started": "2021-11-07T14:02:27.12019Z"
    },
    "papermill": {
     "duration": 0.291919,
     "end_time": "2022-02-14T16:43:09.235952",
     "exception": false,
     "start_time": "2022-02-14T16:43:08.944033",
     "status": "completed"
    },
    "tags": []
   },
   "outputs": [
    {
     "data": {
      "text/plain": [
       "Text(0.5, 1.0, 'ROC curve for Decision Tree Classifer AUC: 0.68)')"
      ]
     },
     "execution_count": 23,
     "metadata": {},
     "output_type": "execute_result"
    },
    {
     "data": {
      "image/png": "[encoded data removed]",
      "text/plain": [
       "<Figure size 432x288 with 1 Axes>"
      ]
     },
     "metadata": {},
     "output_type": "display_data"
    }
   ],
   "source": [
    "fpr2,tpr2,threshold2 = roc_curve(y_test,y_dtc_pred)\n",
    "plt.plot(fpr2,tpr2,color='red')\n",
    "plt.plot([0,1],[0,1],color='blue',linestyle='--')\n",
    "plt.xlabel('False postive rate')\n",
    "plt.ylabel('True positive rate')\n",
    "auc_score2=roc_auc_score(y_test,y_dtc_pred)\n",
    "plt.title('ROC curve for Decision Tree Classifer AUC: {0:.2f})'.format(auc_score2))"
   ]
  },
  {
   "cell_type": "markdown",
   "id": "b7f20766",
   "metadata": {
    "papermill": {
     "duration": 0.055474,
     "end_time": "2022-02-14T16:43:09.347599",
     "exception": false,
     "start_time": "2022-02-14T16:43:09.292125",
     "status": "completed"
    },
    "tags": []
   },
   "source": [
    "Clearly, this model has a much better AUC score of 0.68"
   ]
  },
  {
   "cell_type": "markdown",
   "id": "6cb1c08a",
   "metadata": {
    "papermill": {
     "duration": 0.055013,
     "end_time": "2022-02-14T16:43:09.458330",
     "exception": false,
     "start_time": "2022-02-14T16:43:09.403317",
     "status": "completed"
    },
    "tags": []
   },
   "source": [
    "# **Tuning the Hyperparameters**\n",
    "Let's try to tune our Hyperparameters a bit to see if we can improve our results.\n",
    "\n",
    "As we have seen that accuracy is not a good measure of a model's effiency for this problem. So we will try to optimize node depth of the model so as to maximize the AUC score."
   ]
  },
  {
   "cell_type": "code",
   "execution_count": 24,
   "id": "e172ad5d",
   "metadata": {
    "execution": {
     "iopub.execute_input": "2022-02-14T16:43:09.573343Z",
     "iopub.status.busy": "2022-02-14T16:43:09.572724Z",
     "iopub.status.idle": "2022-02-14T16:43:09.577174Z",
     "shell.execute_reply": "2022-02-14T16:43:09.577823Z",
     "shell.execute_reply.started": "2021-11-07T14:02:27.357942Z"
    },
    "papermill": {
     "duration": 0.063345,
     "end_time": "2022-02-14T16:43:09.577988",
     "exception": false,
     "start_time": "2022-02-14T16:43:09.514643",
     "status": "completed"
    },
    "tags": []
   },
   "outputs": [],
   "source": [
    "def best_auc(node_depth,X_train,y_train,X_test,y_test):\n",
    "    model = DecisionTreeClassifier(max_depth=node_depth,random_state=0)\n",
    "    model.fit(X_train,y_train)\n",
    "    preds_val=model.predict(X_test)\n",
    "    auc = roc_auc_score(y_test,preds_val)\n",
    "    return auc"
   ]
  },
  {
   "cell_type": "code",
   "execution_count": 25,
   "id": "fc571a76",
   "metadata": {
    "execution": {
     "iopub.execute_input": "2022-02-14T16:43:09.692129Z",
     "iopub.status.busy": "2022-02-14T16:43:09.691512Z",
     "iopub.status.idle": "2022-02-14T16:43:11.077265Z",
     "shell.execute_reply": "2022-02-14T16:43:11.077866Z",
     "shell.execute_reply.started": "2021-11-07T14:02:27.364896Z"
    },
    "papermill": {
     "duration": 1.444259,
     "end_time": "2022-02-14T16:43:11.078059",
     "exception": false,
     "start_time": "2022-02-14T16:43:09.633800",
     "status": "completed"
    },
    "tags": []
   },
   "outputs": [
    {
     "name": "stdout",
     "output_type": "stream",
     "text": [
      "26\n"
     ]
    }
   ],
   "source": [
    "candidate_depths = [5,10,15,20,25,26,27,28,29,30]\n",
    "auc_chosen = best_auc(2,X_train,y_train,X_test,y_test)\n",
    "depth = 5\n",
    "for node_depth in candidate_depths:\n",
    "    temp_auc = best_auc(node_depth,X_train,y_train,X_test,y_test)\n",
    "    if(temp_auc>auc_chosen):\n",
    "        auc_chosen = temp_auc\n",
    "        depth = node_depth\n",
    "        \n",
    "best_depth_size = depth\n",
    "print(best_depth_size)"
   ]
  },
  {
   "cell_type": "markdown",
   "id": "47346a58",
   "metadata": {
    "papermill": {
     "duration": 0.055903,
     "end_time": "2022-02-14T16:43:11.190409",
     "exception": false,
     "start_time": "2022-02-14T16:43:11.134506",
     "status": "completed"
    },
    "tags": []
   },
   "source": [
    "So now that we have tuned our hyperparameters, we plug this value in our DTC model."
   ]
  },
  {
   "cell_type": "code",
   "execution_count": 26,
   "id": "afce9741",
   "metadata": {
    "execution": {
     "iopub.execute_input": "2022-02-14T16:43:11.310566Z",
     "iopub.status.busy": "2022-02-14T16:43:11.309806Z",
     "iopub.status.idle": "2022-02-14T16:43:11.457304Z",
     "shell.execute_reply": "2022-02-14T16:43:11.457867Z",
     "shell.execute_reply.started": "2021-11-07T14:02:28.752117Z"
    },
    "papermill": {
     "duration": 0.211696,
     "end_time": "2022-02-14T16:43:11.458068",
     "exception": false,
     "start_time": "2022-02-14T16:43:11.246372",
     "status": "completed"
    },
    "tags": []
   },
   "outputs": [],
   "source": [
    "dtc_model2 = DecisionTreeClassifier(max_depth=best_depth_size,random_state=0)\n",
    "dtc_model2.fit(X_train,y_train)\n",
    "y_dtc_pred2 = dtc_model2.predict(X_test)"
   ]
  },
  {
   "cell_type": "code",
   "execution_count": 27,
   "id": "3a1596d8",
   "metadata": {
    "execution": {
     "iopub.execute_input": "2022-02-14T16:43:11.577499Z",
     "iopub.status.busy": "2022-02-14T16:43:11.576835Z",
     "iopub.status.idle": "2022-02-14T16:43:11.583028Z",
     "shell.execute_reply": "2022-02-14T16:43:11.583493Z",
     "shell.execute_reply.started": "2021-11-07T14:02:28.906615Z"
    },
    "papermill": {
     "duration": 0.067256,
     "end_time": "2022-02-14T16:43:11.583677",
     "exception": false,
     "start_time": "2022-02-14T16:43:11.516421",
     "status": "completed"
    },
    "tags": []
   },
   "outputs": [
    {
     "name": "stdout",
     "output_type": "stream",
     "text": [
      "Accuracy of the model is approximately 92.63%\n"
     ]
    }
   ],
   "source": [
    "ans2 = ('Accuracy of the model is approximately %0.2f%%')\n",
    "print(ans2%(100*(metrics.accuracy_score(y_test, y_dtc_pred2))))"
   ]
  },
  {
   "cell_type": "code",
   "execution_count": 28,
   "id": "5c3f3d06",
   "metadata": {
    "execution": {
     "iopub.execute_input": "2022-02-14T16:43:11.699627Z",
     "iopub.status.busy": "2022-02-14T16:43:11.698950Z",
     "iopub.status.idle": "2022-02-14T16:43:11.985540Z",
     "shell.execute_reply": "2022-02-14T16:43:11.984984Z",
     "shell.execute_reply.started": "2021-11-07T14:02:28.914118Z"
    },
    "papermill": {
     "duration": 0.345697,
     "end_time": "2022-02-14T16:43:11.985684",
     "exception": false,
     "start_time": "2022-02-14T16:43:11.639987",
     "status": "completed"
    },
    "tags": []
   },
   "outputs": [
    {
     "data": {
      "text/plain": [
       "Text(0.5, 12.5, 'Predicted')"
      ]
     },
     "execution_count": 28,
     "metadata": {},
     "output_type": "execute_result"
    },
    {
     "data": {
      "image/png": "[encoded data removed]",
      "text/plain": [
       "<Figure size 432x288 with 2 Axes>"
      ]
     },
     "metadata": {},
     "output_type": "display_data"
    }
   ],
   "source": [
    "dtc_conf_matrix_new = confusion_matrix(y_test,y_dtc_pred2)\n",
    "sns.heatmap(dtc_conf_matrix,annot=True,fmt='g',cmap='Reds')\n",
    "plt.ylabel('Actual')\n",
    "plt.xlabel('Predicted')"
   ]
  },
  {
   "cell_type": "code",
   "execution_count": 29,
   "id": "61a35ac4",
   "metadata": {
    "execution": {
     "iopub.execute_input": "2022-02-14T16:43:12.106437Z",
     "iopub.status.busy": "2022-02-14T16:43:12.105350Z",
     "iopub.status.idle": "2022-02-14T16:43:12.124892Z",
     "shell.execute_reply": "2022-02-14T16:43:12.125523Z",
     "shell.execute_reply.started": "2021-11-07T14:02:29.212025Z"
    },
    "papermill": {
     "duration": 0.082111,
     "end_time": "2022-02-14T16:43:12.125703",
     "exception": false,
     "start_time": "2022-02-14T16:43:12.043592",
     "status": "completed"
    },
    "tags": []
   },
   "outputs": [
    {
     "name": "stdout",
     "output_type": "stream",
     "text": [
      "              precision    recall  f1-score   support\n",
      "\n",
      "           0       0.36      0.43      0.39       458\n",
      "           1       0.97      0.96      0.96      7735\n",
      "\n",
      "    accuracy                           0.93      8193\n",
      "   macro avg       0.66      0.69      0.68      8193\n",
      "weighted avg       0.93      0.93      0.93      8193\n",
      "\n"
     ]
    }
   ],
   "source": [
    "dtc_classification_report = classification_report(y_test,y_dtc_pred2)\n",
    "print(dtc_classification_report)"
   ]
  },
  {
   "cell_type": "code",
   "execution_count": 30,
   "id": "a5424f8a",
   "metadata": {
    "execution": {
     "iopub.execute_input": "2022-02-14T16:43:12.246915Z",
     "iopub.status.busy": "2022-02-14T16:43:12.245671Z",
     "iopub.status.idle": "2022-02-14T16:43:12.479997Z",
     "shell.execute_reply": "2022-02-14T16:43:12.479433Z",
     "shell.execute_reply.started": "2021-11-07T14:02:29.235387Z"
    },
    "papermill": {
     "duration": 0.29607,
     "end_time": "2022-02-14T16:43:12.480138",
     "exception": false,
     "start_time": "2022-02-14T16:43:12.184068",
     "status": "completed"
    },
    "tags": []
   },
   "outputs": [
    {
     "data": {
      "text/plain": [
       "Text(0.5, 1.0, 'ROC curve for Decision Tree Classifer AUC: 0.69)')"
      ]
     },
     "execution_count": 30,
     "metadata": {},
     "output_type": "execute_result"
    },
    {
     "data": {
      "image/png": "[encoded data removed]",
      "text/plain": [
       "<Figure size 432x288 with 1 Axes>"
      ]
     },
     "metadata": {},
     "output_type": "display_data"
    }
   ],
   "source": [
    "fpr3,tpr3,threshold3 = roc_curve(y_test,y_dtc_pred2)\n",
    "plt.plot(fpr3,tpr3,color='red')\n",
    "plt.plot([0,1],[0,1],color='blue',linestyle='--')\n",
    "plt.xlabel('False postive rate')\n",
    "plt.ylabel('True positive rate')\n",
    "auc_score3=roc_auc_score(y_test,y_dtc_pred2)\n",
    "plt.title('ROC curve for Decision Tree Classifer AUC: {0:.2f})'.format(auc_score3))"
   ]
  },
  {
   "cell_type": "markdown",
   "id": "cb553861",
   "metadata": {
    "papermill": {
     "duration": 0.058948,
     "end_time": "2022-02-14T16:43:12.598770",
     "exception": false,
     "start_time": "2022-02-14T16:43:12.539822",
     "status": "completed"
    },
    "tags": []
   },
   "source": [
    "From above data, we can see that there was a slight increase in accuracy of the model (~0.22%) but there is negligible increase in AUC score and other parameters like Precision and Recall."
   ]
  },
  {
   "cell_type": "markdown",
   "id": "ee6fc341",
   "metadata": {
    "papermill": {
     "duration": 0.058571,
     "end_time": "2022-02-14T16:43:12.717105",
     "exception": false,
     "start_time": "2022-02-14T16:43:12.658534",
     "status": "completed"
    },
    "tags": []
   },
   "source": [
    "# **Predictions**"
   ]
  },
  {
   "cell_type": "code",
   "execution_count": 31,
   "id": "56e3e4d6",
   "metadata": {
    "execution": {
     "iopub.execute_input": "2022-02-14T16:43:12.839679Z",
     "iopub.status.busy": "2022-02-14T16:43:12.838989Z",
     "iopub.status.idle": "2022-02-14T16:43:12.987564Z",
     "shell.execute_reply": "2022-02-14T16:43:12.988141Z",
     "shell.execute_reply.started": "2021-11-07T14:02:29.473504Z"
    },
    "papermill": {
     "duration": 0.21187,
     "end_time": "2022-02-14T16:43:12.988310",
     "exception": false,
     "start_time": "2022-02-14T16:43:12.776440",
     "status": "completed"
    },
    "tags": []
   },
   "outputs": [
    {
     "data": {
      "text/html": [
       "<div>\n",
       "<style scoped>\n",
       "    .dataframe tbody tr th:only-of-type {\n",
       "        vertical-align: middle;\n",
       "    }\n",
       "\n",
       "    .dataframe tbody tr th {\n",
       "        vertical-align: top;\n",
       "    }\n",
       "\n",
       "    .dataframe thead th {\n",
       "        text-align: right;\n",
       "    }\n",
       "</style>\n",
       "<table border=\"1\" class=\"dataframe\">\n",
       "  <thead>\n",
       "    <tr style=\"text-align: right;\">\n",
       "      <th></th>\n",
       "      <th>id</th>\n",
       "      <th>RESOURCE</th>\n",
       "      <th>MGR_ID</th>\n",
       "      <th>ROLE_ROLLUP_1</th>\n",
       "      <th>ROLE_ROLLUP_2</th>\n",
       "      <th>ROLE_DEPTNAME</th>\n",
       "      <th>ROLE_TITLE</th>\n",
       "      <th>ROLE_FAMILY_DESC</th>\n",
       "      <th>ROLE_FAMILY</th>\n",
       "      <th>ROLE_CODE</th>\n",
       "    </tr>\n",
       "  </thead>\n",
       "  <tbody>\n",
       "    <tr>\n",
       "      <th>0</th>\n",
       "      <td>1</td>\n",
       "      <td>78766</td>\n",
       "      <td>72734</td>\n",
       "      <td>118079</td>\n",
       "      <td>118080</td>\n",
       "      <td>117878</td>\n",
       "      <td>117879</td>\n",
       "      <td>118177</td>\n",
       "      <td>19721</td>\n",
       "      <td>117880</td>\n",
       "    </tr>\n",
       "    <tr>\n",
       "      <th>1</th>\n",
       "      <td>2</td>\n",
       "      <td>40644</td>\n",
       "      <td>4378</td>\n",
       "      <td>117961</td>\n",
       "      <td>118327</td>\n",
       "      <td>118507</td>\n",
       "      <td>118863</td>\n",
       "      <td>122008</td>\n",
       "      <td>118398</td>\n",
       "      <td>118865</td>\n",
       "    </tr>\n",
       "    <tr>\n",
       "      <th>2</th>\n",
       "      <td>3</td>\n",
       "      <td>75443</td>\n",
       "      <td>2395</td>\n",
       "      <td>117961</td>\n",
       "      <td>118300</td>\n",
       "      <td>119488</td>\n",
       "      <td>118172</td>\n",
       "      <td>301534</td>\n",
       "      <td>249618</td>\n",
       "      <td>118175</td>\n",
       "    </tr>\n",
       "    <tr>\n",
       "      <th>3</th>\n",
       "      <td>4</td>\n",
       "      <td>43219</td>\n",
       "      <td>19986</td>\n",
       "      <td>117961</td>\n",
       "      <td>118225</td>\n",
       "      <td>118403</td>\n",
       "      <td>120773</td>\n",
       "      <td>136187</td>\n",
       "      <td>118960</td>\n",
       "      <td>120774</td>\n",
       "    </tr>\n",
       "    <tr>\n",
       "      <th>4</th>\n",
       "      <td>5</td>\n",
       "      <td>42093</td>\n",
       "      <td>50015</td>\n",
       "      <td>117961</td>\n",
       "      <td>118343</td>\n",
       "      <td>119598</td>\n",
       "      <td>118422</td>\n",
       "      <td>300136</td>\n",
       "      <td>118424</td>\n",
       "      <td>118425</td>\n",
       "    </tr>\n",
       "  </tbody>\n",
       "</table>\n",
       "</div>"
      ],
      "text/plain": [
       "   id  RESOURCE  MGR_ID  ROLE_ROLLUP_1  ROLE_ROLLUP_2  ROLE_DEPTNAME  \\\n",
       "0   1     78766   72734         118079         118080         117878   \n",
       "1   2     40644    4378         117961         118327         118507   \n",
       "2   3     75443    2395         117961         118300         119488   \n",
       "3   4     43219   19986         117961         118225         118403   \n",
       "4   5     42093   50015         117961         118343         119598   \n",
       "\n",
       "   ROLE_TITLE  ROLE_FAMILY_DESC  ROLE_FAMILY  ROLE_CODE  \n",
       "0      117879            118177        19721     117880  \n",
       "1      118863            122008       118398     118865  \n",
       "2      118172            301534       249618     118175  \n",
       "3      120773            136187       118960     120774  \n",
       "4      118422            300136       118424     118425  "
      ]
     },
     "execution_count": 31,
     "metadata": {},
     "output_type": "execute_result"
    }
   ],
   "source": [
    "#First, let's load the test data\n",
    "test_data = pd.read_csv('../input/amazon-employee-access-challenge/test.csv')\n",
    "test_data.head()"
   ]
  },
  {
   "cell_type": "code",
   "execution_count": 32,
   "id": "f3a56e1e",
   "metadata": {
    "execution": {
     "iopub.execute_input": "2022-02-14T16:43:13.111792Z",
     "iopub.status.busy": "2022-02-14T16:43:13.111067Z",
     "iopub.status.idle": "2022-02-14T16:43:13.128311Z",
     "shell.execute_reply": "2022-02-14T16:43:13.128840Z",
     "shell.execute_reply.started": "2021-11-07T14:02:29.612232Z"
    },
    "papermill": {
     "duration": 0.080866,
     "end_time": "2022-02-14T16:43:13.129017",
     "exception": false,
     "start_time": "2022-02-14T16:43:13.048151",
     "status": "completed"
    },
    "tags": []
   },
   "outputs": [
    {
     "data": {
      "text/html": [
       "<div>\n",
       "<style scoped>\n",
       "    .dataframe tbody tr th:only-of-type {\n",
       "        vertical-align: middle;\n",
       "    }\n",
       "\n",
       "    .dataframe tbody tr th {\n",
       "        vertical-align: top;\n",
       "    }\n",
       "\n",
       "    .dataframe thead th {\n",
       "        text-align: right;\n",
       "    }\n",
       "</style>\n",
       "<table border=\"1\" class=\"dataframe\">\n",
       "  <thead>\n",
       "    <tr style=\"text-align: right;\">\n",
       "      <th></th>\n",
       "      <th>RESOURCE</th>\n",
       "      <th>MGR_ID</th>\n",
       "      <th>ROLE_ROLLUP_1</th>\n",
       "      <th>ROLE_ROLLUP_2</th>\n",
       "      <th>ROLE_DEPTNAME</th>\n",
       "      <th>ROLE_TITLE</th>\n",
       "      <th>ROLE_FAMILY_DESC</th>\n",
       "      <th>ROLE_FAMILY</th>\n",
       "      <th>ROLE_CODE</th>\n",
       "    </tr>\n",
       "  </thead>\n",
       "  <tbody>\n",
       "    <tr>\n",
       "      <th>0</th>\n",
       "      <td>78766</td>\n",
       "      <td>72734</td>\n",
       "      <td>118079</td>\n",
       "      <td>118080</td>\n",
       "      <td>117878</td>\n",
       "      <td>117879</td>\n",
       "      <td>118177</td>\n",
       "      <td>19721</td>\n",
       "      <td>117880</td>\n",
       "    </tr>\n",
       "    <tr>\n",
       "      <th>1</th>\n",
       "      <td>40644</td>\n",
       "      <td>4378</td>\n",
       "      <td>117961</td>\n",
       "      <td>118327</td>\n",
       "      <td>118507</td>\n",
       "      <td>118863</td>\n",
       "      <td>122008</td>\n",
       "      <td>118398</td>\n",
       "      <td>118865</td>\n",
       "    </tr>\n",
       "    <tr>\n",
       "      <th>2</th>\n",
       "      <td>75443</td>\n",
       "      <td>2395</td>\n",
       "      <td>117961</td>\n",
       "      <td>118300</td>\n",
       "      <td>119488</td>\n",
       "      <td>118172</td>\n",
       "      <td>301534</td>\n",
       "      <td>249618</td>\n",
       "      <td>118175</td>\n",
       "    </tr>\n",
       "    <tr>\n",
       "      <th>3</th>\n",
       "      <td>43219</td>\n",
       "      <td>19986</td>\n",
       "      <td>117961</td>\n",
       "      <td>118225</td>\n",
       "      <td>118403</td>\n",
       "      <td>120773</td>\n",
       "      <td>136187</td>\n",
       "      <td>118960</td>\n",
       "      <td>120774</td>\n",
       "    </tr>\n",
       "    <tr>\n",
       "      <th>4</th>\n",
       "      <td>42093</td>\n",
       "      <td>50015</td>\n",
       "      <td>117961</td>\n",
       "      <td>118343</td>\n",
       "      <td>119598</td>\n",
       "      <td>118422</td>\n",
       "      <td>300136</td>\n",
       "      <td>118424</td>\n",
       "      <td>118425</td>\n",
       "    </tr>\n",
       "  </tbody>\n",
       "</table>\n",
       "</div>"
      ],
      "text/plain": [
       "   RESOURCE  MGR_ID  ROLE_ROLLUP_1  ROLE_ROLLUP_2  ROLE_DEPTNAME  ROLE_TITLE  \\\n",
       "0     78766   72734         118079         118080         117878      117879   \n",
       "1     40644    4378         117961         118327         118507      118863   \n",
       "2     75443    2395         117961         118300         119488      118172   \n",
       "3     43219   19986         117961         118225         118403      120773   \n",
       "4     42093   50015         117961         118343         119598      118422   \n",
       "\n",
       "   ROLE_FAMILY_DESC  ROLE_FAMILY  ROLE_CODE  \n",
       "0            118177        19721     117880  \n",
       "1            122008       118398     118865  \n",
       "2            301534       249618     118175  \n",
       "3            136187       118960     120774  \n",
       "4            300136       118424     118425  "
      ]
     },
     "execution_count": 32,
     "metadata": {},
     "output_type": "execute_result"
    }
   ],
   "source": [
    "test_id = test_data.id\n",
    "test_data.drop('id',axis=1,inplace=True)\n",
    "test_data.head()"
   ]
  },
  {
   "cell_type": "code",
   "execution_count": 33,
   "id": "06a08007",
   "metadata": {
    "execution": {
     "iopub.execute_input": "2022-02-14T16:43:13.254613Z",
     "iopub.status.busy": "2022-02-14T16:43:13.253556Z",
     "iopub.status.idle": "2022-02-14T16:43:13.289846Z",
     "shell.execute_reply": "2022-02-14T16:43:13.290350Z",
     "shell.execute_reply.started": "2021-11-07T14:02:29.630676Z"
    },
    "papermill": {
     "duration": 0.101072,
     "end_time": "2022-02-14T16:43:13.290559",
     "exception": false,
     "start_time": "2022-02-14T16:43:13.189487",
     "status": "completed"
    },
    "tags": []
   },
   "outputs": [
    {
     "data": {
      "text/html": [
       "<div>\n",
       "<style scoped>\n",
       "    .dataframe tbody tr th:only-of-type {\n",
       "        vertical-align: middle;\n",
       "    }\n",
       "\n",
       "    .dataframe tbody tr th {\n",
       "        vertical-align: top;\n",
       "    }\n",
       "\n",
       "    .dataframe thead th {\n",
       "        text-align: right;\n",
       "    }\n",
       "</style>\n",
       "<table border=\"1\" class=\"dataframe\">\n",
       "  <thead>\n",
       "    <tr style=\"text-align: right;\">\n",
       "      <th></th>\n",
       "      <th>Id</th>\n",
       "      <th>Action</th>\n",
       "    </tr>\n",
       "  </thead>\n",
       "  <tbody>\n",
       "    <tr>\n",
       "      <th>0</th>\n",
       "      <td>1</td>\n",
       "      <td>1</td>\n",
       "    </tr>\n",
       "    <tr>\n",
       "      <th>1</th>\n",
       "      <td>2</td>\n",
       "      <td>1</td>\n",
       "    </tr>\n",
       "    <tr>\n",
       "      <th>2</th>\n",
       "      <td>3</td>\n",
       "      <td>1</td>\n",
       "    </tr>\n",
       "    <tr>\n",
       "      <th>3</th>\n",
       "      <td>4</td>\n",
       "      <td>1</td>\n",
       "    </tr>\n",
       "    <tr>\n",
       "      <th>4</th>\n",
       "      <td>5</td>\n",
       "      <td>1</td>\n",
       "    </tr>\n",
       "  </tbody>\n",
       "</table>\n",
       "</div>"
      ],
      "text/plain": [
       "   Id  Action\n",
       "0   1       1\n",
       "1   2       1\n",
       "2   3       1\n",
       "3   4       1\n",
       "4   5       1"
      ]
     },
     "execution_count": 33,
     "metadata": {},
     "output_type": "execute_result"
    }
   ],
   "source": [
    "y_final = dtc_model.predict(test_data)\n",
    "model_predictions = pd.DataFrame(columns=['Id','Action'])\n",
    "model_predictions['Id']=test_id\n",
    "model_predictions['Action']=y_final\n",
    "model_predictions.head()"
   ]
  },
  {
   "cell_type": "code",
   "execution_count": 34,
   "id": "f8b34483",
   "metadata": {
    "execution": {
     "iopub.execute_input": "2022-02-14T16:43:13.416072Z",
     "iopub.status.busy": "2022-02-14T16:43:13.415402Z",
     "iopub.status.idle": "2022-02-14T16:43:13.574290Z",
     "shell.execute_reply": "2022-02-14T16:43:13.573601Z",
     "shell.execute_reply.started": "2021-11-07T14:02:29.671293Z"
    },
    "papermill": {
     "duration": 0.222528,
     "end_time": "2022-02-14T16:43:13.574479",
     "exception": false,
     "start_time": "2022-02-14T16:43:13.351951",
     "status": "completed"
    },
    "tags": []
   },
   "outputs": [],
   "source": [
    "model_predictions.to_csv('My Submission of AEA Challenge.csv',index='False')"
   ]
  }
 ],
 "metadata": {
  "kernelspec": {
   "display_name": "Python 3",
   "language": "python",
   "name": "python3"
  },
  "language_info": {
   "codemirror_mode": {
    "name": "ipython",
    "version": 3
   },
   "file_extension": ".py",
   "mimetype": "text/x-python",
   "name": "python",
   "nbconvert_exporter": "python",
   "pygments_lexer": "ipython3",
   "version": "3.7.10"
  },
  "papermill": {
   "default_parameters": {},
   "duration": 27.792176,
   "end_time": "2022-02-14T16:43:14.448554",
   "environment_variables": {},
   "exception": null,
   "input_path": "__notebook__.ipynb",
   "output_path": "__notebook__.ipynb",
   "parameters": {},
   "start_time": "2022-02-14T16:42:46.656378",
   "version": "2.3.3"
  }
 },
 "nbformat": 4,
 "nbformat_minor": 5
}
