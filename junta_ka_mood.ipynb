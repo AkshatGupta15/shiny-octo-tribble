{
 "cells": [
  {
   "cell_type": "code",
   "execution_count": 1,
   "id": "810685e5",
   "metadata": {
    "_cell_guid": "b1076dfc-b9ad-4769-8c92-a6c4dae69d19",
    "_uuid": "8f2839f25d086af736a60e9eeb907d3b93b6e0e5",
    "execution": {
     "iopub.execute_input": "2022-02-14T16:59:22.481548Z",
     "iopub.status.busy": "2022-02-14T16:59:22.480344Z",
     "iopub.status.idle": "2022-02-14T16:59:23.350580Z",
     "shell.execute_reply": "2022-02-14T16:59:23.351106Z",
     "shell.execute_reply.started": "2021-11-09T03:18:11.83308Z"
    },
    "papermill": {
     "duration": 0.912535,
     "end_time": "2022-02-14T16:59:23.351445",
     "exception": false,
     "start_time": "2022-02-14T16:59:22.438910",
     "status": "completed"
    },
    "tags": []
   },
   "outputs": [
    {
     "name": "stdout",
     "output_type": "stream",
     "text": [
      "/kaggle/input/voting-data-csv/S04AC223.csv\n"
     ]
    }
   ],
   "source": [
    "# This Python 3 environment comes with many helpful analytics libraries installed\n",
    "# It is defined by the kaggle/python Docker image: https://github.com/kaggle/docker-python\n",
    "# For example, here's several helpful packages to load\n",
    "\n",
    "import numpy as np # linear algebra\n",
    "import pandas as pd # data processing, CSV file I/O (e.g. pd.read_csv)\n",
    "import matplotlib.pyplot as plt #graphs and visualizations\n",
    "import seaborn as sns #graphs and visualizations\n",
    "# Input data files are available in the read-only \"../input/\" directory\n",
    "# For example, running this (by clicking run or pressing Shift+Enter) will list all files under the input directory\n",
    "\n",
    "import os\n",
    "for dirname, _, filenames in os.walk('/kaggle/input'):\n",
    "    for filename in filenames:\n",
    "        print(os.path.join(dirname, filename))\n",
    "\n",
    "# You can write up to 20GB to the current directory (/kaggle/working/) that gets preserved as output when you create a version using \"Save & Run All\" \n",
    "# You can also write temporary files to /kaggle/temp/, but they won't be saved outside of the current session"
   ]
  },
  {
   "cell_type": "markdown",
   "id": "9b9d655e",
   "metadata": {
    "papermill": {
     "duration": 0.029121,
     "end_time": "2022-02-14T16:59:23.410372",
     "exception": false,
     "start_time": "2022-02-14T16:59:23.381251",
     "status": "completed"
    },
    "tags": []
   },
   "source": [
    "# **Loading Data**\n",
    "Let's have a look at the data."
   ]
  },
  {
   "cell_type": "code",
   "execution_count": 2,
   "id": "6793021e",
   "metadata": {
    "execution": {
     "iopub.execute_input": "2022-02-14T16:59:23.471988Z",
     "iopub.status.busy": "2022-02-14T16:59:23.471362Z",
     "iopub.status.idle": "2022-02-14T16:59:24.357281Z",
     "shell.execute_reply": "2022-02-14T16:59:24.356688Z",
     "shell.execute_reply.started": "2021-11-09T03:18:12.710405Z"
    },
    "papermill": {
     "duration": 0.917559,
     "end_time": "2022-02-14T16:59:24.357419",
     "exception": false,
     "start_time": "2022-02-14T16:59:23.439860",
     "status": "completed"
    },
    "tags": []
   },
   "outputs": [
    {
     "name": "stderr",
     "output_type": "stream",
     "text": [
      "/opt/conda/lib/python3.7/site-packages/IPython/core/interactiveshell.py:3441: DtypeWarning: Columns (5) have mixed types.Specify dtype option on import or set low_memory=False.\n",
      "  exec(code_obj, self.user_global_ns, self.user_ns)\n"
     ]
    },
    {
     "data": {
      "text/html": [
       "<div>\n",
       "<style scoped>\n",
       "    .dataframe tbody tr th:only-of-type {\n",
       "        vertical-align: middle;\n",
       "    }\n",
       "\n",
       "    .dataframe tbody tr th {\n",
       "        vertical-align: top;\n",
       "    }\n",
       "\n",
       "    .dataframe thead th {\n",
       "        text-align: right;\n",
       "    }\n",
       "</style>\n",
       "<table border=\"1\" class=\"dataframe\">\n",
       "  <thead>\n",
       "    <tr style=\"text-align: right;\">\n",
       "      <th></th>\n",
       "      <th>AC_No</th>\n",
       "      <th>ACNameEn</th>\n",
       "      <th>PollingBoothNo</th>\n",
       "      <th>SectionNo</th>\n",
       "      <th>votersl</th>\n",
       "      <th>houseno</th>\n",
       "      <th>VIDNo</th>\n",
       "      <th>VoterNameEng</th>\n",
       "      <th>Votername</th>\n",
       "      <th>Sex</th>\n",
       "      <th>relationNameEng</th>\n",
       "      <th>relationname</th>\n",
       "      <th>relation</th>\n",
       "      <th>Age</th>\n",
       "      <th>SectionName</th>\n",
       "      <th>SectionNameEng</th>\n",
       "      <th>PollingStationAddressEn</th>\n",
       "      <th>PollingStationAddress</th>\n",
       "    </tr>\n",
       "  </thead>\n",
       "  <tbody>\n",
       "    <tr>\n",
       "      <th>0</th>\n",
       "      <td>223</td>\n",
       "      <td>Aurangabad</td>\n",
       "      <td>1</td>\n",
       "      <td>1</td>\n",
       "      <td>1</td>\n",
       "      <td>1</td>\n",
       "      <td>NCY2630614</td>\n",
       "      <td>saurav kumar</td>\n",
       "      <td>सौरव कुमार</td>\n",
       "      <td>Male</td>\n",
       "      <td>ashok prasad</td>\n",
       "      <td>अशोक प्रसाद</td>\n",
       "      <td>Father</td>\n",
       "      <td>22</td>\n",
       "      <td>जम्होर</td>\n",
       "      <td>Jamhor</td>\n",
       "      <td>Uchcha Vighalay Jamhor</td>\n",
       "      <td>उच्च विघालय  जम्होर</td>\n",
       "    </tr>\n",
       "    <tr>\n",
       "      <th>1</th>\n",
       "      <td>223</td>\n",
       "      <td>Aurangabad</td>\n",
       "      <td>1</td>\n",
       "      <td>1</td>\n",
       "      <td>2</td>\n",
       "      <td>2</td>\n",
       "      <td>NCY2464733</td>\n",
       "      <td>Sanjeev kumar Pandey</td>\n",
       "      <td>संजीव कुमार पाण्डेय</td>\n",
       "      <td>Male</td>\n",
       "      <td>Suresh Pandey</td>\n",
       "      <td>सुरेश पाण्डेय</td>\n",
       "      <td>Father</td>\n",
       "      <td>27</td>\n",
       "      <td>जम्होर</td>\n",
       "      <td>Jamhor</td>\n",
       "      <td>Uchcha Vighalay Jamhor</td>\n",
       "      <td>उच्च विघालय  जम्होर</td>\n",
       "    </tr>\n",
       "    <tr>\n",
       "      <th>2</th>\n",
       "      <td>223</td>\n",
       "      <td>Aurangabad</td>\n",
       "      <td>1</td>\n",
       "      <td>1</td>\n",
       "      <td>3</td>\n",
       "      <td>2</td>\n",
       "      <td>NCY2467843</td>\n",
       "      <td>Durgawati Devi</td>\n",
       "      <td>दुर्गावती` देवी</td>\n",
       "      <td>Female</td>\n",
       "      <td>Dudhnath paswan</td>\n",
       "      <td>दुधनाथ पासवान</td>\n",
       "      <td>Husband</td>\n",
       "      <td>57</td>\n",
       "      <td>जम्होर</td>\n",
       "      <td>Jamhor</td>\n",
       "      <td>Uchcha Vighalay Jamhor</td>\n",
       "      <td>उच्च विघालय  जम्होर</td>\n",
       "    </tr>\n",
       "    <tr>\n",
       "      <th>3</th>\n",
       "      <td>223</td>\n",
       "      <td>Aurangabad</td>\n",
       "      <td>1</td>\n",
       "      <td>1</td>\n",
       "      <td>4</td>\n",
       "      <td>2</td>\n",
       "      <td>NCY2467850</td>\n",
       "      <td>Dudhnath Paswan</td>\n",
       "      <td>दुधनाथ पासवान</td>\n",
       "      <td>Male</td>\n",
       "      <td>chhedi Paswan</td>\n",
       "      <td>छेदी पासवान</td>\n",
       "      <td>Father</td>\n",
       "      <td>68</td>\n",
       "      <td>जम्होर</td>\n",
       "      <td>Jamhor</td>\n",
       "      <td>Uchcha Vighalay Jamhor</td>\n",
       "      <td>उच्च विघालय  जम्होर</td>\n",
       "    </tr>\n",
       "    <tr>\n",
       "      <th>4</th>\n",
       "      <td>223</td>\n",
       "      <td>Aurangabad</td>\n",
       "      <td>1</td>\n",
       "      <td>1</td>\n",
       "      <td>5</td>\n",
       "      <td>3</td>\n",
       "      <td>NCY0415406</td>\n",
       "      <td>Sanjit kumar</td>\n",
       "      <td>संजीत कुमार</td>\n",
       "      <td>Male</td>\n",
       "      <td>Ramanand Paswan</td>\n",
       "      <td>रामानन्द पासवान</td>\n",
       "      <td>Father</td>\n",
       "      <td>24</td>\n",
       "      <td>जम्होर</td>\n",
       "      <td>Jamhor</td>\n",
       "      <td>Uchcha Vighalay Jamhor</td>\n",
       "      <td>उच्च विघालय  जम्होर</td>\n",
       "    </tr>\n",
       "  </tbody>\n",
       "</table>\n",
       "</div>"
      ],
      "text/plain": [
       "   AC_No    ACNameEn  PollingBoothNo  SectionNo  votersl houseno       VIDNo  \\\n",
       "0    223  Aurangabad               1          1        1       1  NCY2630614   \n",
       "1    223  Aurangabad               1          1        2       2  NCY2464733   \n",
       "2    223  Aurangabad               1          1        3       2  NCY2467843   \n",
       "3    223  Aurangabad               1          1        4       2  NCY2467850   \n",
       "4    223  Aurangabad               1          1        5       3  NCY0415406   \n",
       "\n",
       "           VoterNameEng            Votername     Sex  relationNameEng  \\\n",
       "0          saurav kumar           सौरव कुमार    Male     ashok prasad   \n",
       "1  Sanjeev kumar Pandey  संजीव कुमार पाण्डेय    Male    Suresh Pandey   \n",
       "2        Durgawati Devi      दुर्गावती` देवी  Female  Dudhnath paswan   \n",
       "3       Dudhnath Paswan        दुधनाथ पासवान    Male    chhedi Paswan   \n",
       "4          Sanjit kumar          संजीत कुमार    Male  Ramanand Paswan   \n",
       "\n",
       "      relationname relation  Age SectionName SectionNameEng  \\\n",
       "0      अशोक प्रसाद   Father   22      जम्होर         Jamhor   \n",
       "1    सुरेश पाण्डेय   Father   27      जम्होर         Jamhor   \n",
       "2    दुधनाथ पासवान  Husband   57      जम्होर         Jamhor   \n",
       "3      छेदी पासवान   Father   68      जम्होर         Jamhor   \n",
       "4  रामानन्द पासवान   Father   24      जम्होर         Jamhor   \n",
       "\n",
       "  PollingStationAddressEn PollingStationAddress  \n",
       "0  Uchcha Vighalay Jamhor   उच्च विघालय  जम्होर  \n",
       "1  Uchcha Vighalay Jamhor   उच्च विघालय  जम्होर  \n",
       "2  Uchcha Vighalay Jamhor   उच्च विघालय  जम्होर  \n",
       "3  Uchcha Vighalay Jamhor   उच्च विघालय  जम्होर  \n",
       "4  Uchcha Vighalay Jamhor   उच्च विघालय  जम्होर  "
      ]
     },
     "execution_count": 2,
     "metadata": {},
     "output_type": "execute_result"
    }
   ],
   "source": [
    "voter_data_path = ('../input/voting-data-csv/S04AC223.csv')\n",
    "voter_data = pd.read_csv(voter_data_path)\n",
    "voter_data.head()"
   ]
  },
  {
   "cell_type": "markdown",
   "id": "84d58f7e",
   "metadata": {
    "papermill": {
     "duration": 0.03003,
     "end_time": "2022-02-14T16:59:24.417571",
     "exception": false,
     "start_time": "2022-02-14T16:59:24.387541",
     "status": "completed"
    },
    "tags": []
   },
   "source": [
    "Let me first remove the redundant columns."
   ]
  },
  {
   "cell_type": "code",
   "execution_count": 3,
   "id": "9349d1c3",
   "metadata": {
    "execution": {
     "iopub.execute_input": "2022-02-14T16:59:24.511869Z",
     "iopub.status.busy": "2022-02-14T16:59:24.511202Z",
     "iopub.status.idle": "2022-02-14T16:59:24.517330Z",
     "shell.execute_reply": "2022-02-14T16:59:24.517836Z",
     "shell.execute_reply.started": "2021-11-09T03:18:13.650216Z"
    },
    "papermill": {
     "duration": 0.07011,
     "end_time": "2022-02-14T16:59:24.518014",
     "exception": false,
     "start_time": "2022-02-14T16:59:24.447904",
     "status": "completed"
    },
    "tags": []
   },
   "outputs": [
    {
     "data": {
      "text/html": [
       "<div>\n",
       "<style scoped>\n",
       "    .dataframe tbody tr th:only-of-type {\n",
       "        vertical-align: middle;\n",
       "    }\n",
       "\n",
       "    .dataframe tbody tr th {\n",
       "        vertical-align: top;\n",
       "    }\n",
       "\n",
       "    .dataframe thead th {\n",
       "        text-align: right;\n",
       "    }\n",
       "</style>\n",
       "<table border=\"1\" class=\"dataframe\">\n",
       "  <thead>\n",
       "    <tr style=\"text-align: right;\">\n",
       "      <th></th>\n",
       "      <th>AC_No</th>\n",
       "      <th>ACNameEn</th>\n",
       "      <th>PollingBoothNo</th>\n",
       "      <th>SectionNo</th>\n",
       "      <th>votersl</th>\n",
       "      <th>houseno</th>\n",
       "      <th>VIDNo</th>\n",
       "      <th>VoterNameEng</th>\n",
       "      <th>Sex</th>\n",
       "      <th>relationNameEng</th>\n",
       "      <th>relation</th>\n",
       "      <th>Age</th>\n",
       "      <th>SectionNameEng</th>\n",
       "      <th>PollingStationAddressEn</th>\n",
       "    </tr>\n",
       "  </thead>\n",
       "  <tbody>\n",
       "    <tr>\n",
       "      <th>0</th>\n",
       "      <td>223</td>\n",
       "      <td>Aurangabad</td>\n",
       "      <td>1</td>\n",
       "      <td>1</td>\n",
       "      <td>1</td>\n",
       "      <td>1</td>\n",
       "      <td>NCY2630614</td>\n",
       "      <td>saurav kumar</td>\n",
       "      <td>Male</td>\n",
       "      <td>ashok prasad</td>\n",
       "      <td>Father</td>\n",
       "      <td>22</td>\n",
       "      <td>Jamhor</td>\n",
       "      <td>Uchcha Vighalay Jamhor</td>\n",
       "    </tr>\n",
       "    <tr>\n",
       "      <th>1</th>\n",
       "      <td>223</td>\n",
       "      <td>Aurangabad</td>\n",
       "      <td>1</td>\n",
       "      <td>1</td>\n",
       "      <td>2</td>\n",
       "      <td>2</td>\n",
       "      <td>NCY2464733</td>\n",
       "      <td>Sanjeev kumar Pandey</td>\n",
       "      <td>Male</td>\n",
       "      <td>Suresh Pandey</td>\n",
       "      <td>Father</td>\n",
       "      <td>27</td>\n",
       "      <td>Jamhor</td>\n",
       "      <td>Uchcha Vighalay Jamhor</td>\n",
       "    </tr>\n",
       "    <tr>\n",
       "      <th>2</th>\n",
       "      <td>223</td>\n",
       "      <td>Aurangabad</td>\n",
       "      <td>1</td>\n",
       "      <td>1</td>\n",
       "      <td>3</td>\n",
       "      <td>2</td>\n",
       "      <td>NCY2467843</td>\n",
       "      <td>Durgawati Devi</td>\n",
       "      <td>Female</td>\n",
       "      <td>Dudhnath paswan</td>\n",
       "      <td>Husband</td>\n",
       "      <td>57</td>\n",
       "      <td>Jamhor</td>\n",
       "      <td>Uchcha Vighalay Jamhor</td>\n",
       "    </tr>\n",
       "    <tr>\n",
       "      <th>3</th>\n",
       "      <td>223</td>\n",
       "      <td>Aurangabad</td>\n",
       "      <td>1</td>\n",
       "      <td>1</td>\n",
       "      <td>4</td>\n",
       "      <td>2</td>\n",
       "      <td>NCY2467850</td>\n",
       "      <td>Dudhnath Paswan</td>\n",
       "      <td>Male</td>\n",
       "      <td>chhedi Paswan</td>\n",
       "      <td>Father</td>\n",
       "      <td>68</td>\n",
       "      <td>Jamhor</td>\n",
       "      <td>Uchcha Vighalay Jamhor</td>\n",
       "    </tr>\n",
       "    <tr>\n",
       "      <th>4</th>\n",
       "      <td>223</td>\n",
       "      <td>Aurangabad</td>\n",
       "      <td>1</td>\n",
       "      <td>1</td>\n",
       "      <td>5</td>\n",
       "      <td>3</td>\n",
       "      <td>NCY0415406</td>\n",
       "      <td>Sanjit kumar</td>\n",
       "      <td>Male</td>\n",
       "      <td>Ramanand Paswan</td>\n",
       "      <td>Father</td>\n",
       "      <td>24</td>\n",
       "      <td>Jamhor</td>\n",
       "      <td>Uchcha Vighalay Jamhor</td>\n",
       "    </tr>\n",
       "  </tbody>\n",
       "</table>\n",
       "</div>"
      ],
      "text/plain": [
       "   AC_No    ACNameEn  PollingBoothNo  SectionNo  votersl houseno       VIDNo  \\\n",
       "0    223  Aurangabad               1          1        1       1  NCY2630614   \n",
       "1    223  Aurangabad               1          1        2       2  NCY2464733   \n",
       "2    223  Aurangabad               1          1        3       2  NCY2467843   \n",
       "3    223  Aurangabad               1          1        4       2  NCY2467850   \n",
       "4    223  Aurangabad               1          1        5       3  NCY0415406   \n",
       "\n",
       "           VoterNameEng     Sex  relationNameEng relation  Age SectionNameEng  \\\n",
       "0          saurav kumar    Male     ashok prasad   Father   22         Jamhor   \n",
       "1  Sanjeev kumar Pandey    Male    Suresh Pandey   Father   27         Jamhor   \n",
       "2        Durgawati Devi  Female  Dudhnath paswan  Husband   57         Jamhor   \n",
       "3       Dudhnath Paswan    Male    chhedi Paswan   Father   68         Jamhor   \n",
       "4          Sanjit kumar    Male  Ramanand Paswan   Father   24         Jamhor   \n",
       "\n",
       "  PollingStationAddressEn  \n",
       "0  Uchcha Vighalay Jamhor  \n",
       "1  Uchcha Vighalay Jamhor  \n",
       "2  Uchcha Vighalay Jamhor  \n",
       "3  Uchcha Vighalay Jamhor  \n",
       "4  Uchcha Vighalay Jamhor  "
      ]
     },
     "execution_count": 3,
     "metadata": {},
     "output_type": "execute_result"
    }
   ],
   "source": [
    "eng_voter_data = voter_data.drop(['Votername','relationname','SectionName','PollingStationAddress'],axis=1)\n",
    "eng_voter_data.head()"
   ]
  },
  {
   "cell_type": "markdown",
   "id": "3f21fd4a",
   "metadata": {
    "papermill": {
     "duration": 0.029933,
     "end_time": "2022-02-14T16:59:24.578755",
     "exception": false,
     "start_time": "2022-02-14T16:59:24.548822",
     "status": "completed"
    },
    "tags": []
   },
   "source": [
    "Characterstics of our data"
   ]
  },
  {
   "cell_type": "code",
   "execution_count": 4,
   "id": "a81b766e",
   "metadata": {
    "execution": {
     "iopub.execute_input": "2022-02-14T16:59:24.643385Z",
     "iopub.status.busy": "2022-02-14T16:59:24.642422Z",
     "iopub.status.idle": "2022-02-14T16:59:24.684473Z",
     "shell.execute_reply": "2022-02-14T16:59:24.684934Z",
     "shell.execute_reply.started": "2021-11-09T03:18:13.685504Z"
    },
    "papermill": {
     "duration": 0.075883,
     "end_time": "2022-02-14T16:59:24.685102",
     "exception": false,
     "start_time": "2022-02-14T16:59:24.609219",
     "status": "completed"
    },
    "tags": []
   },
   "outputs": [
    {
     "data": {
      "text/html": [
       "<div>\n",
       "<style scoped>\n",
       "    .dataframe tbody tr th:only-of-type {\n",
       "        vertical-align: middle;\n",
       "    }\n",
       "\n",
       "    .dataframe tbody tr th {\n",
       "        vertical-align: top;\n",
       "    }\n",
       "\n",
       "    .dataframe thead th {\n",
       "        text-align: right;\n",
       "    }\n",
       "</style>\n",
       "<table border=\"1\" class=\"dataframe\">\n",
       "  <thead>\n",
       "    <tr style=\"text-align: right;\">\n",
       "      <th></th>\n",
       "      <th>AC_No</th>\n",
       "      <th>PollingBoothNo</th>\n",
       "      <th>SectionNo</th>\n",
       "      <th>votersl</th>\n",
       "      <th>Age</th>\n",
       "    </tr>\n",
       "  </thead>\n",
       "  <tbody>\n",
       "    <tr>\n",
       "      <th>count</th>\n",
       "      <td>93384.0</td>\n",
       "      <td>93384.000000</td>\n",
       "      <td>93384.000000</td>\n",
       "      <td>93384.000000</td>\n",
       "      <td>93384.000000</td>\n",
       "    </tr>\n",
       "    <tr>\n",
       "      <th>mean</th>\n",
       "      <td>223.0</td>\n",
       "      <td>49.954521</td>\n",
       "      <td>1.368082</td>\n",
       "      <td>498.480125</td>\n",
       "      <td>42.038219</td>\n",
       "    </tr>\n",
       "    <tr>\n",
       "      <th>std</th>\n",
       "      <td>0.0</td>\n",
       "      <td>28.860800</td>\n",
       "      <td>0.832521</td>\n",
       "      <td>315.790702</td>\n",
       "      <td>15.816858</td>\n",
       "    </tr>\n",
       "    <tr>\n",
       "      <th>min</th>\n",
       "      <td>223.0</td>\n",
       "      <td>1.000000</td>\n",
       "      <td>1.000000</td>\n",
       "      <td>1.000000</td>\n",
       "      <td>18.000000</td>\n",
       "    </tr>\n",
       "    <tr>\n",
       "      <th>25%</th>\n",
       "      <td>223.0</td>\n",
       "      <td>25.000000</td>\n",
       "      <td>1.000000</td>\n",
       "      <td>235.000000</td>\n",
       "      <td>29.000000</td>\n",
       "    </tr>\n",
       "    <tr>\n",
       "      <th>50%</th>\n",
       "      <td>223.0</td>\n",
       "      <td>50.000000</td>\n",
       "      <td>1.000000</td>\n",
       "      <td>472.000000</td>\n",
       "      <td>40.000000</td>\n",
       "    </tr>\n",
       "    <tr>\n",
       "      <th>75%</th>\n",
       "      <td>223.0</td>\n",
       "      <td>75.000000</td>\n",
       "      <td>1.000000</td>\n",
       "      <td>728.000000</td>\n",
       "      <td>52.000000</td>\n",
       "    </tr>\n",
       "    <tr>\n",
       "      <th>max</th>\n",
       "      <td>223.0</td>\n",
       "      <td>100.000000</td>\n",
       "      <td>7.000000</td>\n",
       "      <td>1440.000000</td>\n",
       "      <td>122.000000</td>\n",
       "    </tr>\n",
       "  </tbody>\n",
       "</table>\n",
       "</div>"
      ],
      "text/plain": [
       "         AC_No  PollingBoothNo     SectionNo       votersl           Age\n",
       "count  93384.0    93384.000000  93384.000000  93384.000000  93384.000000\n",
       "mean     223.0       49.954521      1.368082    498.480125     42.038219\n",
       "std        0.0       28.860800      0.832521    315.790702     15.816858\n",
       "min      223.0        1.000000      1.000000      1.000000     18.000000\n",
       "25%      223.0       25.000000      1.000000    235.000000     29.000000\n",
       "50%      223.0       50.000000      1.000000    472.000000     40.000000\n",
       "75%      223.0       75.000000      1.000000    728.000000     52.000000\n",
       "max      223.0      100.000000      7.000000   1440.000000    122.000000"
      ]
     },
     "execution_count": 4,
     "metadata": {},
     "output_type": "execute_result"
    }
   ],
   "source": [
    "eng_voter_data.describe()"
   ]
  },
  {
   "cell_type": "markdown",
   "id": "c21c0e84",
   "metadata": {
    "papermill": {
     "duration": 0.030168,
     "end_time": "2022-02-14T16:59:24.745863",
     "exception": false,
     "start_time": "2022-02-14T16:59:24.715695",
     "status": "completed"
    },
    "tags": []
   },
   "source": [
    "# **Answering Questions about the Dataset**"
   ]
  },
  {
   "cell_type": "markdown",
   "id": "7a5d58c3",
   "metadata": {
    "papermill": {
     "duration": 0.030335,
     "end_time": "2022-02-14T16:59:24.806536",
     "exception": false,
     "start_time": "2022-02-14T16:59:24.776201",
     "status": "completed"
    },
    "tags": []
   },
   "source": [
    "Q1 : Which PollingBoothNo has the maximum number of under 30 female population?\n",
    "First let us create the appropiate dataset."
   ]
  },
  {
   "cell_type": "code",
   "execution_count": 5,
   "id": "23c26656",
   "metadata": {
    "execution": {
     "iopub.execute_input": "2022-02-14T16:59:24.888001Z",
     "iopub.status.busy": "2022-02-14T16:59:24.887368Z",
     "iopub.status.idle": "2022-02-14T16:59:24.903501Z",
     "shell.execute_reply": "2022-02-14T16:59:24.903971Z",
     "shell.execute_reply.started": "2021-11-09T03:18:13.730451Z"
    },
    "papermill": {
     "duration": 0.067117,
     "end_time": "2022-02-14T16:59:24.904138",
     "exception": false,
     "start_time": "2022-02-14T16:59:24.837021",
     "status": "completed"
    },
    "tags": []
   },
   "outputs": [
    {
     "data": {
      "text/html": [
       "<div>\n",
       "<style scoped>\n",
       "    .dataframe tbody tr th:only-of-type {\n",
       "        vertical-align: middle;\n",
       "    }\n",
       "\n",
       "    .dataframe tbody tr th {\n",
       "        vertical-align: top;\n",
       "    }\n",
       "\n",
       "    .dataframe thead th {\n",
       "        text-align: right;\n",
       "    }\n",
       "</style>\n",
       "<table border=\"1\" class=\"dataframe\">\n",
       "  <thead>\n",
       "    <tr style=\"text-align: right;\">\n",
       "      <th></th>\n",
       "      <th>AC_No</th>\n",
       "      <th>ACNameEn</th>\n",
       "      <th>PollingBoothNo</th>\n",
       "      <th>SectionNo</th>\n",
       "      <th>votersl</th>\n",
       "      <th>houseno</th>\n",
       "      <th>VIDNo</th>\n",
       "      <th>VoterNameEng</th>\n",
       "      <th>Sex</th>\n",
       "      <th>relationNameEng</th>\n",
       "      <th>relation</th>\n",
       "      <th>Age</th>\n",
       "      <th>SectionNameEng</th>\n",
       "      <th>PollingStationAddressEn</th>\n",
       "    </tr>\n",
       "  </thead>\n",
       "  <tbody>\n",
       "    <tr>\n",
       "      <th>27</th>\n",
       "      <td>223</td>\n",
       "      <td>Aurangabad</td>\n",
       "      <td>1</td>\n",
       "      <td>1</td>\n",
       "      <td>28</td>\n",
       "      <td>4</td>\n",
       "      <td>NCY1108620</td>\n",
       "      <td>Switi Devi</td>\n",
       "      <td>Female</td>\n",
       "      <td>rajesh kumar</td>\n",
       "      <td>Husband</td>\n",
       "      <td>26</td>\n",
       "      <td>Jamhor</td>\n",
       "      <td>Uchcha Vighalay Jamhor</td>\n",
       "    </tr>\n",
       "    <tr>\n",
       "      <th>40</th>\n",
       "      <td>223</td>\n",
       "      <td>Aurangabad</td>\n",
       "      <td>1</td>\n",
       "      <td>1</td>\n",
       "      <td>41</td>\n",
       "      <td>6</td>\n",
       "      <td>NCY1788728</td>\n",
       "      <td>Ritu Kumari</td>\n",
       "      <td>Female</td>\n",
       "      <td>Dukhdevan Paswan</td>\n",
       "      <td>Father</td>\n",
       "      <td>24</td>\n",
       "      <td>Jamhor</td>\n",
       "      <td>Uchcha Vighalay Jamhor</td>\n",
       "    </tr>\n",
       "    <tr>\n",
       "      <th>51</th>\n",
       "      <td>223</td>\n",
       "      <td>Aurangabad</td>\n",
       "      <td>1</td>\n",
       "      <td>1</td>\n",
       "      <td>52</td>\n",
       "      <td>7</td>\n",
       "      <td>NCY2577922</td>\n",
       "      <td>PRITI KUMARI</td>\n",
       "      <td>Female</td>\n",
       "      <td>RAMA PRASAD</td>\n",
       "      <td>Father</td>\n",
       "      <td>20</td>\n",
       "      <td>Jamhor</td>\n",
       "      <td>Uchcha Vighalay Jamhor</td>\n",
       "    </tr>\n",
       "    <tr>\n",
       "      <th>69</th>\n",
       "      <td>223</td>\n",
       "      <td>Aurangabad</td>\n",
       "      <td>1</td>\n",
       "      <td>1</td>\n",
       "      <td>70</td>\n",
       "      <td>9</td>\n",
       "      <td>NCY2467892</td>\n",
       "      <td>Poonam Devi</td>\n",
       "      <td>Female</td>\n",
       "      <td>Manish Kumar</td>\n",
       "      <td>Husband</td>\n",
       "      <td>25</td>\n",
       "      <td>Jamhor</td>\n",
       "      <td>Uchcha Vighalay Jamhor</td>\n",
       "    </tr>\n",
       "    <tr>\n",
       "      <th>79</th>\n",
       "      <td>223</td>\n",
       "      <td>Aurangabad</td>\n",
       "      <td>1</td>\n",
       "      <td>1</td>\n",
       "      <td>80</td>\n",
       "      <td>10</td>\n",
       "      <td>NCY1795202</td>\n",
       "      <td>Urmila devi</td>\n",
       "      <td>Female</td>\n",
       "      <td>Sunil yadav</td>\n",
       "      <td>Husband</td>\n",
       "      <td>24</td>\n",
       "      <td>Jamhor</td>\n",
       "      <td>Uchcha Vighalay Jamhor</td>\n",
       "    </tr>\n",
       "  </tbody>\n",
       "</table>\n",
       "</div>"
      ],
      "text/plain": [
       "    AC_No    ACNameEn  PollingBoothNo  SectionNo  votersl houseno       VIDNo  \\\n",
       "27    223  Aurangabad               1          1       28       4  NCY1108620   \n",
       "40    223  Aurangabad               1          1       41       6  NCY1788728   \n",
       "51    223  Aurangabad               1          1       52       7  NCY2577922   \n",
       "69    223  Aurangabad               1          1       70       9  NCY2467892   \n",
       "79    223  Aurangabad               1          1       80      10  NCY1795202   \n",
       "\n",
       "    VoterNameEng     Sex   relationNameEng relation  Age SectionNameEng  \\\n",
       "27    Switi Devi  Female      rajesh kumar  Husband   26         Jamhor   \n",
       "40   Ritu Kumari  Female  Dukhdevan Paswan   Father   24         Jamhor   \n",
       "51  PRITI KUMARI  Female       RAMA PRASAD   Father   20         Jamhor   \n",
       "69   Poonam Devi  Female      Manish Kumar  Husband   25         Jamhor   \n",
       "79   Urmila devi  Female       Sunil yadav  Husband   24         Jamhor   \n",
       "\n",
       "   PollingStationAddressEn  \n",
       "27  Uchcha Vighalay Jamhor  \n",
       "40  Uchcha Vighalay Jamhor  \n",
       "51  Uchcha Vighalay Jamhor  \n",
       "69  Uchcha Vighalay Jamhor  \n",
       "79  Uchcha Vighalay Jamhor  "
      ]
     },
     "execution_count": 5,
     "metadata": {},
     "output_type": "execute_result"
    }
   ],
   "source": [
    "young_female_data = eng_voter_data.loc[(eng_voter_data['Sex'] == 'Female')&(eng_voter_data['Age']<30)]\n",
    "young_female_data.head()"
   ]
  },
  {
   "cell_type": "code",
   "execution_count": 6,
   "id": "8ac22535",
   "metadata": {
    "execution": {
     "iopub.execute_input": "2022-02-14T16:59:24.973302Z",
     "iopub.status.busy": "2022-02-14T16:59:24.972711Z",
     "iopub.status.idle": "2022-02-14T16:59:24.976095Z",
     "shell.execute_reply": "2022-02-14T16:59:24.976603Z",
     "shell.execute_reply.started": "2021-11-09T03:18:13.767996Z"
    },
    "papermill": {
     "duration": 0.042047,
     "end_time": "2022-02-14T16:59:24.976768",
     "exception": false,
     "start_time": "2022-02-14T16:59:24.934721",
     "status": "completed"
    },
    "tags": []
   },
   "outputs": [
    {
     "name": "stdout",
     "output_type": "stream",
     "text": [
      "53    204\n",
      "48    188\n",
      "54    173\n",
      "68    170\n",
      "98    169\n",
      "     ... \n",
      "80     52\n",
      "10     50\n",
      "71     47\n",
      "5      42\n",
      "45     29\n",
      "Name: PollingBoothNo, Length: 100, dtype: int64\n"
     ]
    }
   ],
   "source": [
    "print(young_female_data.PollingBoothNo.value_counts())"
   ]
  },
  {
   "cell_type": "markdown",
   "id": "f86a3f5d",
   "metadata": {
    "papermill": {
     "duration": 0.031805,
     "end_time": "2022-02-14T16:59:25.040678",
     "exception": false,
     "start_time": "2022-02-14T16:59:25.008873",
     "status": "completed"
    },
    "tags": []
   },
   "source": [
    "**Ans 1 : Polling Booth No 53 has the maximum number of under 30 females, which is 204.**"
   ]
  },
  {
   "cell_type": "markdown",
   "id": "f3bcb3ca",
   "metadata": {
    "papermill": {
     "duration": 0.032004,
     "end_time": "2022-02-14T16:59:25.104763",
     "exception": false,
     "start_time": "2022-02-14T16:59:25.072759",
     "status": "completed"
    },
    "tags": []
   },
   "source": [
    "Q2 : Share a list of Head of family (HoF) for each household. HoF are individuals with maximum age in each family. A household is defined as members with same houseno grouped under PollingBoothNo, SectionNo\n"
   ]
  },
  {
   "cell_type": "code",
   "execution_count": 7,
   "id": "b779d277",
   "metadata": {
    "execution": {
     "iopub.execute_input": "2022-02-14T16:59:25.173942Z",
     "iopub.status.busy": "2022-02-14T16:59:25.173389Z",
     "iopub.status.idle": "2022-02-14T16:59:30.675600Z",
     "shell.execute_reply": "2022-02-14T16:59:30.675022Z",
     "shell.execute_reply.started": "2021-11-09T03:18:13.775074Z"
    },
    "papermill": {
     "duration": 5.538751,
     "end_time": "2022-02-14T16:59:30.675731",
     "exception": false,
     "start_time": "2022-02-14T16:59:25.136980",
     "status": "completed"
    },
    "tags": []
   },
   "outputs": [
    {
     "data": {
      "text/html": [
       "<div>\n",
       "<style scoped>\n",
       "    .dataframe tbody tr th:only-of-type {\n",
       "        vertical-align: middle;\n",
       "    }\n",
       "\n",
       "    .dataframe tbody tr th {\n",
       "        vertical-align: top;\n",
       "    }\n",
       "\n",
       "    .dataframe thead th {\n",
       "        text-align: right;\n",
       "    }\n",
       "</style>\n",
       "<table border=\"1\" class=\"dataframe\">\n",
       "  <thead>\n",
       "    <tr style=\"text-align: right;\">\n",
       "      <th></th>\n",
       "      <th></th>\n",
       "      <th></th>\n",
       "      <th>AC_No</th>\n",
       "      <th>ACNameEn</th>\n",
       "      <th>PollingBoothNo</th>\n",
       "      <th>SectionNo</th>\n",
       "      <th>votersl</th>\n",
       "      <th>houseno</th>\n",
       "      <th>VIDNo</th>\n",
       "      <th>VoterNameEng</th>\n",
       "      <th>Sex</th>\n",
       "      <th>relationNameEng</th>\n",
       "      <th>relation</th>\n",
       "      <th>Age</th>\n",
       "      <th>SectionNameEng</th>\n",
       "      <th>PollingStationAddressEn</th>\n",
       "    </tr>\n",
       "    <tr>\n",
       "      <th>PollingBoothNo</th>\n",
       "      <th>SectionNo</th>\n",
       "      <th>houseno</th>\n",
       "      <th></th>\n",
       "      <th></th>\n",
       "      <th></th>\n",
       "      <th></th>\n",
       "      <th></th>\n",
       "      <th></th>\n",
       "      <th></th>\n",
       "      <th></th>\n",
       "      <th></th>\n",
       "      <th></th>\n",
       "      <th></th>\n",
       "      <th></th>\n",
       "      <th></th>\n",
       "      <th></th>\n",
       "    </tr>\n",
       "  </thead>\n",
       "  <tbody>\n",
       "    <tr>\n",
       "      <th rowspan=\"5\" valign=\"top\">1</th>\n",
       "      <th rowspan=\"5\" valign=\"top\">1</th>\n",
       "      <th>1</th>\n",
       "      <td>223</td>\n",
       "      <td>Aurangabad</td>\n",
       "      <td>1</td>\n",
       "      <td>1</td>\n",
       "      <td>1</td>\n",
       "      <td>1</td>\n",
       "      <td>NCY2630614</td>\n",
       "      <td>saurav kumar</td>\n",
       "      <td>Male</td>\n",
       "      <td>ashok prasad</td>\n",
       "      <td>Father</td>\n",
       "      <td>22</td>\n",
       "      <td>Jamhor</td>\n",
       "      <td>Uchcha Vighalay Jamhor</td>\n",
       "    </tr>\n",
       "    <tr>\n",
       "      <th>2</th>\n",
       "      <td>223</td>\n",
       "      <td>Aurangabad</td>\n",
       "      <td>1</td>\n",
       "      <td>1</td>\n",
       "      <td>4</td>\n",
       "      <td>2</td>\n",
       "      <td>NCY2467850</td>\n",
       "      <td>Dudhnath Paswan</td>\n",
       "      <td>Male</td>\n",
       "      <td>chhedi Paswan</td>\n",
       "      <td>Father</td>\n",
       "      <td>68</td>\n",
       "      <td>Jamhor</td>\n",
       "      <td>Uchcha Vighalay Jamhor</td>\n",
       "    </tr>\n",
       "    <tr>\n",
       "      <th>3</th>\n",
       "      <td>223</td>\n",
       "      <td>Aurangabad</td>\n",
       "      <td>1</td>\n",
       "      <td>1</td>\n",
       "      <td>6</td>\n",
       "      <td>3</td>\n",
       "      <td>FPX5573233</td>\n",
       "      <td>Karami Devi</td>\n",
       "      <td>Female</td>\n",
       "      <td>Arjun Paswan</td>\n",
       "      <td>Husband</td>\n",
       "      <td>58</td>\n",
       "      <td>Jamhor</td>\n",
       "      <td>Uchcha Vighalay Jamhor</td>\n",
       "    </tr>\n",
       "    <tr>\n",
       "      <th>4</th>\n",
       "      <td>223</td>\n",
       "      <td>Aurangabad</td>\n",
       "      <td>1</td>\n",
       "      <td>1</td>\n",
       "      <td>18</td>\n",
       "      <td>4</td>\n",
       "      <td>NCY0507723</td>\n",
       "      <td>Etavariya Devi</td>\n",
       "      <td>Female</td>\n",
       "      <td>Lakeshwar Paswan</td>\n",
       "      <td>Husband</td>\n",
       "      <td>78</td>\n",
       "      <td>Jamhor</td>\n",
       "      <td>Uchcha Vighalay Jamhor</td>\n",
       "    </tr>\n",
       "    <tr>\n",
       "      <th>5</th>\n",
       "      <td>223</td>\n",
       "      <td>Aurangabad</td>\n",
       "      <td>1</td>\n",
       "      <td>1</td>\n",
       "      <td>34</td>\n",
       "      <td>5</td>\n",
       "      <td>NCY1080043</td>\n",
       "      <td>Krishna Paswan</td>\n",
       "      <td>Male</td>\n",
       "      <td>Mahadev Paswan</td>\n",
       "      <td>Father</td>\n",
       "      <td>61</td>\n",
       "      <td>Jamhor</td>\n",
       "      <td>Uchcha Vighalay Jamhor</td>\n",
       "    </tr>\n",
       "  </tbody>\n",
       "</table>\n",
       "</div>"
      ],
      "text/plain": [
       "                                  AC_No    ACNameEn  PollingBoothNo  \\\n",
       "PollingBoothNo SectionNo houseno                                      \n",
       "1              1         1          223  Aurangabad               1   \n",
       "                         2          223  Aurangabad               1   \n",
       "                         3          223  Aurangabad               1   \n",
       "                         4          223  Aurangabad               1   \n",
       "                         5          223  Aurangabad               1   \n",
       "\n",
       "                                  SectionNo  votersl houseno       VIDNo  \\\n",
       "PollingBoothNo SectionNo houseno                                           \n",
       "1              1         1                1        1       1  NCY2630614   \n",
       "                         2                1        4       2  NCY2467850   \n",
       "                         3                1        6       3  FPX5573233   \n",
       "                         4                1       18       4  NCY0507723   \n",
       "                         5                1       34       5  NCY1080043   \n",
       "\n",
       "                                     VoterNameEng     Sex   relationNameEng  \\\n",
       "PollingBoothNo SectionNo houseno                                              \n",
       "1              1         1           saurav kumar    Male      ashok prasad   \n",
       "                         2        Dudhnath Paswan    Male     chhedi Paswan   \n",
       "                         3            Karami Devi  Female      Arjun Paswan   \n",
       "                         4         Etavariya Devi  Female  Lakeshwar Paswan   \n",
       "                         5         Krishna Paswan    Male    Mahadev Paswan   \n",
       "\n",
       "                                 relation  Age SectionNameEng  \\\n",
       "PollingBoothNo SectionNo houseno                                \n",
       "1              1         1         Father   22         Jamhor   \n",
       "                         2         Father   68         Jamhor   \n",
       "                         3        Husband   58         Jamhor   \n",
       "                         4        Husband   78         Jamhor   \n",
       "                         5         Father   61         Jamhor   \n",
       "\n",
       "                                 PollingStationAddressEn  \n",
       "PollingBoothNo SectionNo houseno                          \n",
       "1              1         1        Uchcha Vighalay Jamhor  \n",
       "                         2        Uchcha Vighalay Jamhor  \n",
       "                         3        Uchcha Vighalay Jamhor  \n",
       "                         4        Uchcha Vighalay Jamhor  \n",
       "                         5        Uchcha Vighalay Jamhor  "
      ]
     },
     "execution_count": 7,
     "metadata": {},
     "output_type": "execute_result"
    }
   ],
   "source": [
    "HoF = eng_voter_data.groupby(['PollingBoothNo','SectionNo','houseno']).apply(lambda x: x.loc[x.Age.idxmax()])\n",
    "HoF.head()"
   ]
  },
  {
   "cell_type": "markdown",
   "id": "4d077d53",
   "metadata": {
    "papermill": {
     "duration": 0.031735,
     "end_time": "2022-02-14T16:59:30.739828",
     "exception": false,
     "start_time": "2022-02-14T16:59:30.708093",
     "status": "completed"
    },
    "tags": []
   },
   "source": [
    "**Answer 2 : I will provide the csv file of the dataframe. A short preview has been shown above. ******"
   ]
  },
  {
   "cell_type": "code",
   "execution_count": 8,
   "id": "c7eaccb3",
   "metadata": {
    "execution": {
     "iopub.execute_input": "2022-02-14T16:59:30.808792Z",
     "iopub.status.busy": "2022-02-14T16:59:30.807228Z",
     "iopub.status.idle": "2022-02-14T16:59:30.909031Z",
     "shell.execute_reply": "2022-02-14T16:59:30.908454Z",
     "shell.execute_reply.started": "2021-11-09T03:18:19.380369Z"
    },
    "papermill": {
     "duration": 0.137216,
     "end_time": "2022-02-14T16:59:30.909195",
     "exception": false,
     "start_time": "2022-02-14T16:59:30.771979",
     "status": "completed"
    },
    "tags": []
   },
   "outputs": [],
   "source": [
    "HoF.to_csv('HoF_data.csv',index=False)"
   ]
  },
  {
   "cell_type": "markdown",
   "id": "83f084ae",
   "metadata": {
    "papermill": {
     "duration": 0.032194,
     "end_time": "2022-02-14T16:59:30.973874",
     "exception": false,
     "start_time": "2022-02-14T16:59:30.941680",
     "status": "completed"
    },
    "tags": []
   },
   "source": [
    "Q3 : Split the VoterNameEng into FirstNameEng, MiddleNameEng and LastNameEng. "
   ]
  },
  {
   "cell_type": "code",
   "execution_count": 9,
   "id": "75a8b29c",
   "metadata": {
    "execution": {
     "iopub.execute_input": "2022-02-14T16:59:31.072276Z",
     "iopub.status.busy": "2022-02-14T16:59:31.059363Z",
     "iopub.status.idle": "2022-02-14T16:59:31.501312Z",
     "shell.execute_reply": "2022-02-14T16:59:31.500672Z",
     "shell.execute_reply.started": "2021-11-09T03:18:19.487702Z"
    },
    "papermill": {
     "duration": 0.494681,
     "end_time": "2022-02-14T16:59:31.501449",
     "exception": false,
     "start_time": "2022-02-14T16:59:31.006768",
     "status": "completed"
    },
    "tags": []
   },
   "outputs": [
    {
     "data": {
      "text/html": [
       "<div>\n",
       "<style scoped>\n",
       "    .dataframe tbody tr th:only-of-type {\n",
       "        vertical-align: middle;\n",
       "    }\n",
       "\n",
       "    .dataframe tbody tr th {\n",
       "        vertical-align: top;\n",
       "    }\n",
       "\n",
       "    .dataframe thead th {\n",
       "        text-align: right;\n",
       "    }\n",
       "</style>\n",
       "<table border=\"1\" class=\"dataframe\">\n",
       "  <thead>\n",
       "    <tr style=\"text-align: right;\">\n",
       "      <th></th>\n",
       "      <th>AC_No</th>\n",
       "      <th>ACNameEn</th>\n",
       "      <th>PollingBoothNo</th>\n",
       "      <th>SectionNo</th>\n",
       "      <th>votersl</th>\n",
       "      <th>houseno</th>\n",
       "      <th>VIDNo</th>\n",
       "      <th>VoterNameEng</th>\n",
       "      <th>Sex</th>\n",
       "      <th>relationNameEng</th>\n",
       "      <th>relation</th>\n",
       "      <th>Age</th>\n",
       "      <th>SectionNameEng</th>\n",
       "      <th>PollingStationAddressEn</th>\n",
       "      <th>FirstNameEng</th>\n",
       "      <th>LastNameEng</th>\n",
       "      <th>MiddleNameEng</th>\n",
       "    </tr>\n",
       "  </thead>\n",
       "  <tbody>\n",
       "    <tr>\n",
       "      <th>0</th>\n",
       "      <td>223</td>\n",
       "      <td>Aurangabad</td>\n",
       "      <td>1</td>\n",
       "      <td>1</td>\n",
       "      <td>1</td>\n",
       "      <td>1</td>\n",
       "      <td>NCY2630614</td>\n",
       "      <td>saurav kumar</td>\n",
       "      <td>Male</td>\n",
       "      <td>ashok prasad</td>\n",
       "      <td>Father</td>\n",
       "      <td>22</td>\n",
       "      <td>Jamhor</td>\n",
       "      <td>Uchcha Vighalay Jamhor</td>\n",
       "      <td>saurav</td>\n",
       "      <td>kumar</td>\n",
       "      <td></td>\n",
       "    </tr>\n",
       "    <tr>\n",
       "      <th>1</th>\n",
       "      <td>223</td>\n",
       "      <td>Aurangabad</td>\n",
       "      <td>1</td>\n",
       "      <td>1</td>\n",
       "      <td>2</td>\n",
       "      <td>2</td>\n",
       "      <td>NCY2464733</td>\n",
       "      <td>Sanjeev kumar Pandey</td>\n",
       "      <td>Male</td>\n",
       "      <td>Suresh Pandey</td>\n",
       "      <td>Father</td>\n",
       "      <td>27</td>\n",
       "      <td>Jamhor</td>\n",
       "      <td>Uchcha Vighalay Jamhor</td>\n",
       "      <td>Sanjeev</td>\n",
       "      <td>Pandey</td>\n",
       "      <td>kumar</td>\n",
       "    </tr>\n",
       "    <tr>\n",
       "      <th>2</th>\n",
       "      <td>223</td>\n",
       "      <td>Aurangabad</td>\n",
       "      <td>1</td>\n",
       "      <td>1</td>\n",
       "      <td>3</td>\n",
       "      <td>2</td>\n",
       "      <td>NCY2467843</td>\n",
       "      <td>Durgawati Devi</td>\n",
       "      <td>Female</td>\n",
       "      <td>Dudhnath paswan</td>\n",
       "      <td>Husband</td>\n",
       "      <td>57</td>\n",
       "      <td>Jamhor</td>\n",
       "      <td>Uchcha Vighalay Jamhor</td>\n",
       "      <td>Durgawati</td>\n",
       "      <td>Devi</td>\n",
       "      <td></td>\n",
       "    </tr>\n",
       "    <tr>\n",
       "      <th>3</th>\n",
       "      <td>223</td>\n",
       "      <td>Aurangabad</td>\n",
       "      <td>1</td>\n",
       "      <td>1</td>\n",
       "      <td>4</td>\n",
       "      <td>2</td>\n",
       "      <td>NCY2467850</td>\n",
       "      <td>Dudhnath Paswan</td>\n",
       "      <td>Male</td>\n",
       "      <td>chhedi Paswan</td>\n",
       "      <td>Father</td>\n",
       "      <td>68</td>\n",
       "      <td>Jamhor</td>\n",
       "      <td>Uchcha Vighalay Jamhor</td>\n",
       "      <td>Dudhnath</td>\n",
       "      <td>Paswan</td>\n",
       "      <td></td>\n",
       "    </tr>\n",
       "    <tr>\n",
       "      <th>4</th>\n",
       "      <td>223</td>\n",
       "      <td>Aurangabad</td>\n",
       "      <td>1</td>\n",
       "      <td>1</td>\n",
       "      <td>5</td>\n",
       "      <td>3</td>\n",
       "      <td>NCY0415406</td>\n",
       "      <td>Sanjit kumar</td>\n",
       "      <td>Male</td>\n",
       "      <td>Ramanand Paswan</td>\n",
       "      <td>Father</td>\n",
       "      <td>24</td>\n",
       "      <td>Jamhor</td>\n",
       "      <td>Uchcha Vighalay Jamhor</td>\n",
       "      <td>Sanjit</td>\n",
       "      <td>kumar</td>\n",
       "      <td></td>\n",
       "    </tr>\n",
       "  </tbody>\n",
       "</table>\n",
       "</div>"
      ],
      "text/plain": [
       "   AC_No    ACNameEn  PollingBoothNo  SectionNo  votersl houseno       VIDNo  \\\n",
       "0    223  Aurangabad               1          1        1       1  NCY2630614   \n",
       "1    223  Aurangabad               1          1        2       2  NCY2464733   \n",
       "2    223  Aurangabad               1          1        3       2  NCY2467843   \n",
       "3    223  Aurangabad               1          1        4       2  NCY2467850   \n",
       "4    223  Aurangabad               1          1        5       3  NCY0415406   \n",
       "\n",
       "           VoterNameEng     Sex  relationNameEng relation  Age SectionNameEng  \\\n",
       "0          saurav kumar    Male     ashok prasad   Father   22         Jamhor   \n",
       "1  Sanjeev kumar Pandey    Male    Suresh Pandey   Father   27         Jamhor   \n",
       "2        Durgawati Devi  Female  Dudhnath paswan  Husband   57         Jamhor   \n",
       "3       Dudhnath Paswan    Male    chhedi Paswan   Father   68         Jamhor   \n",
       "4          Sanjit kumar    Male  Ramanand Paswan   Father   24         Jamhor   \n",
       "\n",
       "  PollingStationAddressEn FirstNameEng LastNameEng MiddleNameEng  \n",
       "0  Uchcha Vighalay Jamhor       saurav       kumar                \n",
       "1  Uchcha Vighalay Jamhor      Sanjeev      Pandey         kumar  \n",
       "2  Uchcha Vighalay Jamhor    Durgawati        Devi                \n",
       "3  Uchcha Vighalay Jamhor     Dudhnath      Paswan                \n",
       "4  Uchcha Vighalay Jamhor       Sanjit       kumar                "
      ]
     },
     "execution_count": 9,
     "metadata": {},
     "output_type": "execute_result"
    }
   ],
   "source": [
    "splitted = eng_voter_data['VoterNameEng'].str.split()\n",
    "eng_voter_data['FirstNameEng'] = splitted.str[0]\n",
    "eng_voter_data['LastNameEng'] = splitted.str[-1]\n",
    "middle = splitted.str[1] \n",
    "eng_voter_data['MiddleNameEng'] = middle.mask(middle == eng_voter_data['LastNameEng'], '')\n",
    "eng_voter_data.head()"
   ]
  },
  {
   "cell_type": "markdown",
   "id": "5cd3fef7",
   "metadata": {
    "papermill": {
     "duration": 0.033091,
     "end_time": "2022-02-14T16:59:31.568275",
     "exception": false,
     "start_time": "2022-02-14T16:59:31.535184",
     "status": "completed"
    },
    "tags": []
   },
   "source": [
    "**Ans 3 : I will provide the csv file of the dataframe. A short preview has been shown above.**"
   ]
  },
  {
   "cell_type": "code",
   "execution_count": 10,
   "id": "87406d62",
   "metadata": {
    "execution": {
     "iopub.execute_input": "2022-02-14T16:59:31.640902Z",
     "iopub.status.busy": "2022-02-14T16:59:31.640254Z",
     "iopub.status.idle": "2022-02-14T16:59:32.531455Z",
     "shell.execute_reply": "2022-02-14T16:59:32.530753Z",
     "shell.execute_reply.started": "2021-11-09T03:18:19.948858Z"
    },
    "papermill": {
     "duration": 0.930074,
     "end_time": "2022-02-14T16:59:32.531599",
     "exception": false,
     "start_time": "2022-02-14T16:59:31.601525",
     "status": "completed"
    },
    "tags": []
   },
   "outputs": [],
   "source": [
    "splitted_data = eng_voter_data.iloc[:,[0,1,2,3,4,5,6,7,14,16,15,8,9,10,11,12,13]]\n",
    "splitted_data.head()\n",
    "splitted_data.to_csv('splitted_data.csv',index=False)"
   ]
  },
  {
   "cell_type": "markdown",
   "id": "d8c833f1",
   "metadata": {
    "papermill": {
     "duration": 0.032737,
     "end_time": "2022-02-14T16:59:32.597372",
     "exception": false,
     "start_time": "2022-02-14T16:59:32.564635",
     "status": "completed"
    },
    "tags": []
   },
   "source": [
    "Q4 : What is the RelativeName of VoterNameEng ‘Gajala Praveen’ living in PollingBoothNo 19? "
   ]
  },
  {
   "cell_type": "code",
   "execution_count": 11,
   "id": "51323583",
   "metadata": {
    "execution": {
     "iopub.execute_input": "2022-02-14T16:59:32.682127Z",
     "iopub.status.busy": "2022-02-14T16:59:32.681465Z",
     "iopub.status.idle": "2022-02-14T16:59:32.696271Z",
     "shell.execute_reply": "2022-02-14T16:59:32.695749Z",
     "shell.execute_reply.started": "2021-11-09T03:18:20.87311Z"
    },
    "papermill": {
     "duration": 0.066337,
     "end_time": "2022-02-14T16:59:32.696400",
     "exception": false,
     "start_time": "2022-02-14T16:59:32.630063",
     "status": "completed"
    },
    "tags": []
   },
   "outputs": [
    {
     "data": {
      "text/html": [
       "<div>\n",
       "<style scoped>\n",
       "    .dataframe tbody tr th:only-of-type {\n",
       "        vertical-align: middle;\n",
       "    }\n",
       "\n",
       "    .dataframe tbody tr th {\n",
       "        vertical-align: top;\n",
       "    }\n",
       "\n",
       "    .dataframe thead th {\n",
       "        text-align: right;\n",
       "    }\n",
       "</style>\n",
       "<table border=\"1\" class=\"dataframe\">\n",
       "  <thead>\n",
       "    <tr style=\"text-align: right;\">\n",
       "      <th></th>\n",
       "      <th>AC_No</th>\n",
       "      <th>ACNameEn</th>\n",
       "      <th>PollingBoothNo</th>\n",
       "      <th>SectionNo</th>\n",
       "      <th>votersl</th>\n",
       "      <th>houseno</th>\n",
       "      <th>VIDNo</th>\n",
       "      <th>VoterNameEng</th>\n",
       "      <th>Sex</th>\n",
       "      <th>relationNameEng</th>\n",
       "      <th>relation</th>\n",
       "      <th>Age</th>\n",
       "      <th>SectionNameEng</th>\n",
       "      <th>PollingStationAddressEn</th>\n",
       "      <th>FirstNameEng</th>\n",
       "      <th>LastNameEng</th>\n",
       "      <th>MiddleNameEng</th>\n",
       "    </tr>\n",
       "  </thead>\n",
       "  <tbody>\n",
       "    <tr>\n",
       "      <th>17187</th>\n",
       "      <td>223</td>\n",
       "      <td>Aurangabad</td>\n",
       "      <td>19</td>\n",
       "      <td>1</td>\n",
       "      <td>171</td>\n",
       "      <td>45</td>\n",
       "      <td>NCY1155795</td>\n",
       "      <td>Gajala Praveen</td>\n",
       "      <td>Female</td>\n",
       "      <td>Sartaj Ahmad</td>\n",
       "      <td>Husband</td>\n",
       "      <td>27</td>\n",
       "      <td>BHOJA BIGAHA</td>\n",
       "      <td>Prathamik Vidyalay Saheya</td>\n",
       "      <td>Gajala</td>\n",
       "      <td>Praveen</td>\n",
       "      <td></td>\n",
       "    </tr>\n",
       "  </tbody>\n",
       "</table>\n",
       "</div>"
      ],
      "text/plain": [
       "       AC_No    ACNameEn  PollingBoothNo  SectionNo  votersl houseno  \\\n",
       "17187    223  Aurangabad              19          1      171      45   \n",
       "\n",
       "            VIDNo    VoterNameEng     Sex relationNameEng relation  Age  \\\n",
       "17187  NCY1155795  Gajala Praveen  Female    Sartaj Ahmad  Husband   27   \n",
       "\n",
       "      SectionNameEng    PollingStationAddressEn FirstNameEng LastNameEng  \\\n",
       "17187   BHOJA BIGAHA  Prathamik Vidyalay Saheya       Gajala     Praveen   \n",
       "\n",
       "      MiddleNameEng  \n",
       "17187                "
      ]
     },
     "execution_count": 11,
     "metadata": {},
     "output_type": "execute_result"
    }
   ],
   "source": [
    "relative = eng_voter_data.loc[(eng_voter_data['VoterNameEng'] == 'Gajala Praveen')&(eng_voter_data['PollingBoothNo']==19)]\n",
    "relative.head()"
   ]
  },
  {
   "cell_type": "markdown",
   "id": "c6ac4cb9",
   "metadata": {
    "papermill": {
     "duration": 0.032414,
     "end_time": "2022-02-14T16:59:32.761411",
     "exception": false,
     "start_time": "2022-02-14T16:59:32.728997",
     "status": "completed"
    },
    "tags": []
   },
   "source": [
    "**Ans 4 : The name of the relative is Sartaj Ahmad.**"
   ]
  },
  {
   "cell_type": "markdown",
   "id": "c8b651de",
   "metadata": {
    "papermill": {
     "duration": 0.032894,
     "end_time": "2022-02-14T16:59:32.827761",
     "exception": false,
     "start_time": "2022-02-14T16:59:32.794867",
     "status": "completed"
    },
    "tags": []
   },
   "source": [
    "Q5 : Prepare frequency distribution of the FirstName of VoterNameEng. What inference can you draw from this distribution?  "
   ]
  },
  {
   "cell_type": "code",
   "execution_count": 12,
   "id": "ac93cd7b",
   "metadata": {
    "execution": {
     "iopub.execute_input": "2022-02-14T16:59:32.923332Z",
     "iopub.status.busy": "2022-02-14T16:59:32.922651Z",
     "iopub.status.idle": "2022-02-14T16:59:32.928871Z",
     "shell.execute_reply": "2022-02-14T16:59:32.929420Z",
     "shell.execute_reply.started": "2021-11-09T03:18:20.908856Z"
    },
    "papermill": {
     "duration": 0.068824,
     "end_time": "2022-02-14T16:59:32.929586",
     "exception": false,
     "start_time": "2022-02-14T16:59:32.860762",
     "status": "completed"
    },
    "tags": []
   },
   "outputs": [
    {
     "name": "stdout",
     "output_type": "stream",
     "text": [
      "Ram                1476\n",
      "Mohammad           1377\n",
      "Sunita              552\n",
      "Sanjay              534\n",
      "Shanti              520\n",
      "                   ... \n",
      "NandKishor            1\n",
      "Shivdutt              1\n",
      "Vindhyayavasini       1\n",
      "rukhihi               1\n",
      "Shaimal               1\n",
      "Name: FirstNameEng, Length: 14703, dtype: int64\n"
     ]
    }
   ],
   "source": [
    "count = eng_voter_data['FirstNameEng'].value_counts()\n",
    "print(count)"
   ]
  },
  {
   "cell_type": "markdown",
   "id": "18174d73",
   "metadata": {
    "papermill": {
     "duration": 0.033161,
     "end_time": "2022-02-14T16:59:32.996853",
     "exception": false,
     "start_time": "2022-02-14T16:59:32.963692",
     "status": "completed"
    },
    "tags": []
   },
   "source": [
    "**Ans 5 :We can see that 'Ram' and 'Mohammad' are by far the most common first names in the database. These are names based on religious deities in Hinduism and Islam respectively. Both are also male names, which also gives a clue regarding the higher male population in the dataset.Also, there are a large amount of names with very low frequency of occurence. The top 1% of the most popular names account for almost 40% of the population. I will add a csv file of the same.**"
   ]
  },
  {
   "cell_type": "code",
   "execution_count": 13,
   "id": "a950d069",
   "metadata": {
    "execution": {
     "iopub.execute_input": "2022-02-14T16:59:33.070195Z",
     "iopub.status.busy": "2022-02-14T16:59:33.069554Z",
     "iopub.status.idle": "2022-02-14T16:59:33.090124Z",
     "shell.execute_reply": "2022-02-14T16:59:33.089588Z",
     "shell.execute_reply.started": "2021-11-09T03:18:20.944984Z"
    },
    "papermill": {
     "duration": 0.059081,
     "end_time": "2022-02-14T16:59:33.090286",
     "exception": false,
     "start_time": "2022-02-14T16:59:33.031205",
     "status": "completed"
    },
    "tags": []
   },
   "outputs": [],
   "source": [
    "count.to_csv('Frequency_counts_of_first_names.csv')"
   ]
  },
  {
   "cell_type": "markdown",
   "id": "5dae5ee2",
   "metadata": {
    "papermill": {
     "duration": 0.034181,
     "end_time": "2022-02-14T16:59:33.158419",
     "exception": false,
     "start_time": "2022-02-14T16:59:33.124238",
     "status": "completed"
    },
    "tags": []
   },
   "source": [
    "Q6 : Share the percentage distribution of each surname (last name) of VoterNameEng"
   ]
  },
  {
   "cell_type": "code",
   "execution_count": 14,
   "id": "44642fa1",
   "metadata": {
    "execution": {
     "iopub.execute_input": "2022-02-14T16:59:33.228918Z",
     "iopub.status.busy": "2022-02-14T16:59:33.228350Z",
     "iopub.status.idle": "2022-02-14T16:59:33.253273Z",
     "shell.execute_reply": "2022-02-14T16:59:33.253802Z",
     "shell.execute_reply.started": "2021-11-09T03:18:20.970023Z"
    },
    "papermill": {
     "duration": 0.061646,
     "end_time": "2022-02-14T16:59:33.253958",
     "exception": false,
     "start_time": "2022-02-14T16:59:33.192312",
     "status": "completed"
    },
    "tags": []
   },
   "outputs": [
    {
     "name": "stdout",
     "output_type": "stream",
     "text": [
      "Devi              29.799537\n",
      "Singh              7.624432\n",
      "Kumar              5.719395\n",
      "Yadav              4.735287\n",
      "Ram                4.371198\n",
      "                    ...    \n",
      "n                  0.001071\n",
      "pratap             0.001071\n",
      "Chandharawansi     0.001071\n",
      "partap             0.001071\n",
      "Paramahans         0.001071\n",
      "Name: LastNameEng, Length: 3044, dtype: float64\n"
     ]
    }
   ],
   "source": [
    "last_name_counts = (eng_voter_data['LastNameEng'].value_counts())*(100/93384)\n",
    "print(last_name_counts)"
   ]
  },
  {
   "cell_type": "code",
   "execution_count": 15,
   "id": "38d92d0f",
   "metadata": {
    "execution": {
     "iopub.execute_input": "2022-02-14T16:59:33.325239Z",
     "iopub.status.busy": "2022-02-14T16:59:33.324604Z",
     "iopub.status.idle": "2022-02-14T16:59:33.338297Z",
     "shell.execute_reply": "2022-02-14T16:59:33.337635Z",
     "shell.execute_reply.started": "2021-11-09T03:18:20.998263Z"
    },
    "papermill": {
     "duration": 0.050795,
     "end_time": "2022-02-14T16:59:33.338431",
     "exception": false,
     "start_time": "2022-02-14T16:59:33.287636",
     "status": "completed"
    },
    "tags": []
   },
   "outputs": [],
   "source": [
    "last_name_counts.to_csv('Percentage_Distribution_of_each_surname.csv')"
   ]
  },
  {
   "cell_type": "markdown",
   "id": "4760eb8f",
   "metadata": {
    "papermill": {
     "duration": 0.033511,
     "end_time": "2022-02-14T16:59:33.406217",
     "exception": false,
     "start_time": "2022-02-14T16:59:33.372706",
     "status": "completed"
    },
    "tags": []
   },
   "source": [
    "**Ans 6 : 'Devi' is the most popular surname accounting for almost 30% of the population. Followed by 'Singh', which is a distant second. I will upload a csv file of the same.**"
   ]
  },
  {
   "cell_type": "markdown",
   "id": "13c9ed94",
   "metadata": {
    "papermill": {
     "duration": 0.034081,
     "end_time": "2022-02-14T16:59:33.473855",
     "exception": false,
     "start_time": "2022-02-14T16:59:33.439774",
     "status": "completed"
    },
    "tags": []
   },
   "source": [
    "Q7 : How many families are there in the dataset? Group_by on PollingBoothNo, SectionNo, houseno"
   ]
  },
  {
   "cell_type": "markdown",
   "id": "863399a9",
   "metadata": {
    "papermill": {
     "duration": 0.033698,
     "end_time": "2022-02-14T16:59:33.596660",
     "exception": false,
     "start_time": "2022-02-14T16:59:33.562962",
     "status": "completed"
    },
    "tags": []
   },
   "source": [
    "Since, the HoF.csv file already contains the head of family of each family, the number of rows in that dataframe will give us the number of families in the dataset."
   ]
  },
  {
   "cell_type": "code",
   "execution_count": 16,
   "id": "1e5dfba2",
   "metadata": {
    "execution": {
     "iopub.execute_input": "2022-02-14T16:59:33.669894Z",
     "iopub.status.busy": "2022-02-14T16:59:33.669265Z",
     "iopub.status.idle": "2022-02-14T16:59:33.672810Z",
     "shell.execute_reply": "2022-02-14T16:59:33.673291Z",
     "shell.execute_reply.started": "2021-11-09T03:18:21.016075Z"
    },
    "papermill": {
     "duration": 0.042807,
     "end_time": "2022-02-14T16:59:33.673459",
     "exception": false,
     "start_time": "2022-02-14T16:59:33.630652",
     "status": "completed"
    },
    "tags": []
   },
   "outputs": [
    {
     "name": "stdout",
     "output_type": "stream",
     "text": [
      "13025\n"
     ]
    }
   ],
   "source": [
    "print(len(HoF.index))"
   ]
  },
  {
   "cell_type": "markdown",
   "id": "24ba2686",
   "metadata": {
    "papermill": {
     "duration": 0.035532,
     "end_time": "2022-02-14T16:59:33.744323",
     "exception": false,
     "start_time": "2022-02-14T16:59:33.708791",
     "status": "completed"
    },
    "tags": []
   },
   "source": [
    "**Ans 7 : There are 13025 famillies in the dataset.**"
   ]
  },
  {
   "cell_type": "markdown",
   "id": "e59cd31e",
   "metadata": {
    "papermill": {
     "duration": 0.034338,
     "end_time": "2022-02-14T16:59:33.813344",
     "exception": false,
     "start_time": "2022-02-14T16:59:33.779006",
     "status": "completed"
    },
    "tags": []
   },
   "source": [
    "Q8 : As per dataset, what is the average family size in the households? "
   ]
  },
  {
   "cell_type": "code",
   "execution_count": 17,
   "id": "5987f25f",
   "metadata": {
    "execution": {
     "iopub.execute_input": "2022-02-14T16:59:33.890130Z",
     "iopub.status.busy": "2022-02-14T16:59:33.889475Z",
     "iopub.status.idle": "2022-02-14T16:59:33.923244Z",
     "shell.execute_reply": "2022-02-14T16:59:33.923692Z",
     "shell.execute_reply.started": "2021-11-09T03:18:21.023394Z"
    },
    "papermill": {
     "duration": 0.075594,
     "end_time": "2022-02-14T16:59:33.923855",
     "exception": false,
     "start_time": "2022-02-14T16:59:33.848261",
     "status": "completed"
    },
    "tags": []
   },
   "outputs": [
    {
     "data": {
      "text/html": [
       "<div>\n",
       "<style scoped>\n",
       "    .dataframe tbody tr th:only-of-type {\n",
       "        vertical-align: middle;\n",
       "    }\n",
       "\n",
       "    .dataframe tbody tr th {\n",
       "        vertical-align: top;\n",
       "    }\n",
       "\n",
       "    .dataframe thead th {\n",
       "        text-align: right;\n",
       "    }\n",
       "</style>\n",
       "<table border=\"1\" class=\"dataframe\">\n",
       "  <thead>\n",
       "    <tr style=\"text-align: right;\">\n",
       "      <th></th>\n",
       "      <th>PollingBoothNo</th>\n",
       "      <th>SectionNo</th>\n",
       "      <th>houseno</th>\n",
       "      <th>0</th>\n",
       "    </tr>\n",
       "  </thead>\n",
       "  <tbody>\n",
       "    <tr>\n",
       "      <th>0</th>\n",
       "      <td>1</td>\n",
       "      <td>1</td>\n",
       "      <td>1</td>\n",
       "      <td>1</td>\n",
       "    </tr>\n",
       "    <tr>\n",
       "      <th>1</th>\n",
       "      <td>1</td>\n",
       "      <td>1</td>\n",
       "      <td>2</td>\n",
       "      <td>3</td>\n",
       "    </tr>\n",
       "    <tr>\n",
       "      <th>2</th>\n",
       "      <td>1</td>\n",
       "      <td>1</td>\n",
       "      <td>3</td>\n",
       "      <td>7</td>\n",
       "    </tr>\n",
       "    <tr>\n",
       "      <th>3</th>\n",
       "      <td>1</td>\n",
       "      <td>1</td>\n",
       "      <td>4</td>\n",
       "      <td>23</td>\n",
       "    </tr>\n",
       "    <tr>\n",
       "      <th>4</th>\n",
       "      <td>1</td>\n",
       "      <td>1</td>\n",
       "      <td>5</td>\n",
       "      <td>3</td>\n",
       "    </tr>\n",
       "    <tr>\n",
       "      <th>...</th>\n",
       "      <td>...</td>\n",
       "      <td>...</td>\n",
       "      <td>...</td>\n",
       "      <td>...</td>\n",
       "    </tr>\n",
       "    <tr>\n",
       "      <th>13020</th>\n",
       "      <td>100</td>\n",
       "      <td>3</td>\n",
       "      <td>5</td>\n",
       "      <td>5</td>\n",
       "    </tr>\n",
       "    <tr>\n",
       "      <th>13021</th>\n",
       "      <td>100</td>\n",
       "      <td>3</td>\n",
       "      <td>6</td>\n",
       "      <td>13</td>\n",
       "    </tr>\n",
       "    <tr>\n",
       "      <th>13022</th>\n",
       "      <td>100</td>\n",
       "      <td>3</td>\n",
       "      <td>7</td>\n",
       "      <td>15</td>\n",
       "    </tr>\n",
       "    <tr>\n",
       "      <th>13023</th>\n",
       "      <td>100</td>\n",
       "      <td>3</td>\n",
       "      <td>8</td>\n",
       "      <td>40</td>\n",
       "    </tr>\n",
       "    <tr>\n",
       "      <th>13024</th>\n",
       "      <td>100</td>\n",
       "      <td>3</td>\n",
       "      <td>9</td>\n",
       "      <td>5</td>\n",
       "    </tr>\n",
       "  </tbody>\n",
       "</table>\n",
       "<p>13025 rows × 4 columns</p>\n",
       "</div>"
      ],
      "text/plain": [
       "       PollingBoothNo  SectionNo houseno   0\n",
       "0                   1          1       1   1\n",
       "1                   1          1       2   3\n",
       "2                   1          1       3   7\n",
       "3                   1          1       4  23\n",
       "4                   1          1       5   3\n",
       "...               ...        ...     ...  ..\n",
       "13020             100          3       5   5\n",
       "13021             100          3       6  13\n",
       "13022             100          3       7  15\n",
       "13023             100          3       8  40\n",
       "13024             100          3       9   5\n",
       "\n",
       "[13025 rows x 4 columns]"
      ]
     },
     "execution_count": 17,
     "metadata": {},
     "output_type": "execute_result"
    }
   ],
   "source": [
    "family_data=pd.DataFrame()\n",
    "family_data=eng_voter_data.groupby(['PollingBoothNo','SectionNo','houseno']).size()\n",
    "#family_data.head()\n",
    "family_data.reset_index()"
   ]
  },
  {
   "cell_type": "code",
   "execution_count": 18,
   "id": "884f76bc",
   "metadata": {
    "execution": {
     "iopub.execute_input": "2022-02-14T16:59:34.006357Z",
     "iopub.status.busy": "2022-02-14T16:59:33.999850Z",
     "iopub.status.idle": "2022-02-14T16:59:34.022349Z",
     "shell.execute_reply": "2022-02-14T16:59:34.021678Z",
     "shell.execute_reply.started": "2021-11-09T03:18:21.069317Z"
    },
    "papermill": {
     "duration": 0.062988,
     "end_time": "2022-02-14T16:59:34.022496",
     "exception": false,
     "start_time": "2022-02-14T16:59:33.959508",
     "status": "completed"
    },
    "tags": []
   },
   "outputs": [],
   "source": [
    "family_data.to_csv('family_size.csv')"
   ]
  },
  {
   "cell_type": "markdown",
   "id": "4d500dae",
   "metadata": {
    "papermill": {
     "duration": 0.045206,
     "end_time": "2022-02-14T16:59:34.114868",
     "exception": false,
     "start_time": "2022-02-14T16:59:34.069662",
     "status": "completed"
    },
    "tags": []
   },
   "source": [
    "**Ans 8: From the above csv file, we can easily calculate the average family size, which comes out to be approximately 7.2 persons per household. Therefore, we can say that on an average there are 7 people in each family.**"
   ]
  },
  {
   "cell_type": "markdown",
   "id": "0b5c345d",
   "metadata": {
    "papermill": {
     "duration": 0.035073,
     "end_time": "2022-02-14T16:59:34.189900",
     "exception": false,
     "start_time": "2022-02-14T16:59:34.154827",
     "status": "completed"
    },
    "tags": []
   },
   "source": [
    "Q9 : Which area has the highest population? An area is the same as SectionNameEng."
   ]
  },
  {
   "cell_type": "code",
   "execution_count": 19,
   "id": "626008d2",
   "metadata": {
    "execution": {
     "iopub.execute_input": "2022-02-14T16:59:34.276057Z",
     "iopub.status.busy": "2022-02-14T16:59:34.275408Z",
     "iopub.status.idle": "2022-02-14T16:59:34.286525Z",
     "shell.execute_reply": "2022-02-14T16:59:34.285551Z",
     "shell.execute_reply.started": "2021-11-09T03:18:21.097413Z"
    },
    "papermill": {
     "duration": 0.061234,
     "end_time": "2022-02-14T16:59:34.286704",
     "exception": false,
     "start_time": "2022-02-14T16:59:34.225470",
     "status": "completed"
    },
    "tags": []
   },
   "outputs": [
    {
     "name": "stdout",
     "output_type": "stream",
     "text": [
      "Population    Jamhor\n",
      "dtype: object\n",
      "Population    5241\n",
      "dtype: int64\n"
     ]
    }
   ],
   "source": [
    "area_data=eng_voter_data.groupby('SectionNameEng').size()\n",
    "area_data.reset_index()\n",
    "area_df = pd.DataFrame(area_data,columns=['Population'])\n",
    "print(area_df.idxmax())\n",
    "print(area_df.max())\n",
    "area_df.to_csv('Area_Population.csv')"
   ]
  },
  {
   "cell_type": "markdown",
   "id": "da503fbf",
   "metadata": {
    "papermill": {
     "duration": 0.035262,
     "end_time": "2022-02-14T16:59:34.357981",
     "exception": false,
     "start_time": "2022-02-14T16:59:34.322719",
     "status": "completed"
    },
    "tags": []
   },
   "source": [
    "**Ans 9: Therefore, we can see that Jamhor has the highest population, which is 5241.**"
   ]
  },
  {
   "cell_type": "markdown",
   "id": "5240feb6",
   "metadata": {
    "papermill": {
     "duration": 0.035446,
     "end_time": "2022-02-14T16:59:34.429749",
     "exception": false,
     "start_time": "2022-02-14T16:59:34.394303",
     "status": "completed"
    },
    "tags": []
   },
   "source": [
    "Q10 : As you see in the database, VIDNo is the voter id number of the voters. It is personal information and should not be shared publicly due to privacy concerns. How will you mask the middle 5 digits of the VIDNo? Mask 4th, 5th, 6th, 7th, 8th digit of the VIDNo. "
   ]
  },
  {
   "cell_type": "code",
   "execution_count": 20,
   "id": "939e0d52",
   "metadata": {
    "execution": {
     "iopub.execute_input": "2022-02-14T16:59:34.536434Z",
     "iopub.status.busy": "2022-02-14T16:59:34.503231Z",
     "iopub.status.idle": "2022-02-14T16:59:34.571485Z",
     "shell.execute_reply": "2022-02-14T16:59:34.570910Z",
     "shell.execute_reply.started": "2021-11-09T03:37:30.384017Z"
    },
    "papermill": {
     "duration": 0.106227,
     "end_time": "2022-02-14T16:59:34.571626",
     "exception": false,
     "start_time": "2022-02-14T16:59:34.465399",
     "status": "completed"
    },
    "tags": []
   },
   "outputs": [
    {
     "data": {
      "text/plain": [
       "0    NCY#####14\n",
       "1    NCY#####33\n",
       "2    NCY#####43\n",
       "3    NCY#####50\n",
       "4    NCY#####06\n",
       "Name: VIDNo, dtype: object"
      ]
     },
     "execution_count": 20,
     "metadata": {},
     "output_type": "execute_result"
    }
   ],
   "source": [
    "masked_ID = eng_voter_data['VIDNo']\n",
    "masked_ID = masked_ID.astype(str)\n",
    "def mask_voter_ID(x):    \n",
    "    return (x[0:3] + '#####' + x[8:10])\n",
    "masked_ID = masked_ID.apply(mask_voter_ID)\n",
    "masked_ID.head()"
   ]
  },
  {
   "cell_type": "code",
   "execution_count": 21,
   "id": "e9376761",
   "metadata": {
    "execution": {
     "iopub.execute_input": "2022-02-14T16:59:34.686964Z",
     "iopub.status.busy": "2022-02-14T16:59:34.686259Z",
     "iopub.status.idle": "2022-02-14T16:59:35.670369Z",
     "shell.execute_reply": "2022-02-14T16:59:35.669840Z",
     "shell.execute_reply.started": "2021-11-09T03:42:25.192496Z"
    },
    "papermill": {
     "duration": 1.062089,
     "end_time": "2022-02-14T16:59:35.670510",
     "exception": false,
     "start_time": "2022-02-14T16:59:34.608421",
     "status": "completed"
    },
    "tags": []
   },
   "outputs": [
    {
     "data": {
      "text/html": [
       "<div>\n",
       "<style scoped>\n",
       "    .dataframe tbody tr th:only-of-type {\n",
       "        vertical-align: middle;\n",
       "    }\n",
       "\n",
       "    .dataframe tbody tr th {\n",
       "        vertical-align: top;\n",
       "    }\n",
       "\n",
       "    .dataframe thead th {\n",
       "        text-align: right;\n",
       "    }\n",
       "</style>\n",
       "<table border=\"1\" class=\"dataframe\">\n",
       "  <thead>\n",
       "    <tr style=\"text-align: right;\">\n",
       "      <th></th>\n",
       "      <th>AC_No</th>\n",
       "      <th>ACNameEn</th>\n",
       "      <th>PollingBoothNo</th>\n",
       "      <th>SectionNo</th>\n",
       "      <th>votersl</th>\n",
       "      <th>houseno</th>\n",
       "      <th>VIDNo</th>\n",
       "      <th>VoterNameEng</th>\n",
       "      <th>Sex</th>\n",
       "      <th>relationNameEng</th>\n",
       "      <th>relation</th>\n",
       "      <th>Age</th>\n",
       "      <th>SectionNameEng</th>\n",
       "      <th>PollingStationAddressEn</th>\n",
       "      <th>FirstNameEng</th>\n",
       "      <th>LastNameEng</th>\n",
       "      <th>MiddleNameEng</th>\n",
       "    </tr>\n",
       "  </thead>\n",
       "  <tbody>\n",
       "    <tr>\n",
       "      <th>0</th>\n",
       "      <td>223</td>\n",
       "      <td>Aurangabad</td>\n",
       "      <td>1</td>\n",
       "      <td>1</td>\n",
       "      <td>1</td>\n",
       "      <td>1</td>\n",
       "      <td>NCY#####14</td>\n",
       "      <td>saurav kumar</td>\n",
       "      <td>Male</td>\n",
       "      <td>ashok prasad</td>\n",
       "      <td>Father</td>\n",
       "      <td>22</td>\n",
       "      <td>Jamhor</td>\n",
       "      <td>Uchcha Vighalay Jamhor</td>\n",
       "      <td>saurav</td>\n",
       "      <td>kumar</td>\n",
       "      <td></td>\n",
       "    </tr>\n",
       "    <tr>\n",
       "      <th>1</th>\n",
       "      <td>223</td>\n",
       "      <td>Aurangabad</td>\n",
       "      <td>1</td>\n",
       "      <td>1</td>\n",
       "      <td>2</td>\n",
       "      <td>2</td>\n",
       "      <td>NCY#####33</td>\n",
       "      <td>Sanjeev kumar Pandey</td>\n",
       "      <td>Male</td>\n",
       "      <td>Suresh Pandey</td>\n",
       "      <td>Father</td>\n",
       "      <td>27</td>\n",
       "      <td>Jamhor</td>\n",
       "      <td>Uchcha Vighalay Jamhor</td>\n",
       "      <td>Sanjeev</td>\n",
       "      <td>Pandey</td>\n",
       "      <td>kumar</td>\n",
       "    </tr>\n",
       "    <tr>\n",
       "      <th>2</th>\n",
       "      <td>223</td>\n",
       "      <td>Aurangabad</td>\n",
       "      <td>1</td>\n",
       "      <td>1</td>\n",
       "      <td>3</td>\n",
       "      <td>2</td>\n",
       "      <td>NCY#####43</td>\n",
       "      <td>Durgawati Devi</td>\n",
       "      <td>Female</td>\n",
       "      <td>Dudhnath paswan</td>\n",
       "      <td>Husband</td>\n",
       "      <td>57</td>\n",
       "      <td>Jamhor</td>\n",
       "      <td>Uchcha Vighalay Jamhor</td>\n",
       "      <td>Durgawati</td>\n",
       "      <td>Devi</td>\n",
       "      <td></td>\n",
       "    </tr>\n",
       "    <tr>\n",
       "      <th>3</th>\n",
       "      <td>223</td>\n",
       "      <td>Aurangabad</td>\n",
       "      <td>1</td>\n",
       "      <td>1</td>\n",
       "      <td>4</td>\n",
       "      <td>2</td>\n",
       "      <td>NCY#####50</td>\n",
       "      <td>Dudhnath Paswan</td>\n",
       "      <td>Male</td>\n",
       "      <td>chhedi Paswan</td>\n",
       "      <td>Father</td>\n",
       "      <td>68</td>\n",
       "      <td>Jamhor</td>\n",
       "      <td>Uchcha Vighalay Jamhor</td>\n",
       "      <td>Dudhnath</td>\n",
       "      <td>Paswan</td>\n",
       "      <td></td>\n",
       "    </tr>\n",
       "    <tr>\n",
       "      <th>4</th>\n",
       "      <td>223</td>\n",
       "      <td>Aurangabad</td>\n",
       "      <td>1</td>\n",
       "      <td>1</td>\n",
       "      <td>5</td>\n",
       "      <td>3</td>\n",
       "      <td>NCY#####06</td>\n",
       "      <td>Sanjit kumar</td>\n",
       "      <td>Male</td>\n",
       "      <td>Ramanand Paswan</td>\n",
       "      <td>Father</td>\n",
       "      <td>24</td>\n",
       "      <td>Jamhor</td>\n",
       "      <td>Uchcha Vighalay Jamhor</td>\n",
       "      <td>Sanjit</td>\n",
       "      <td>kumar</td>\n",
       "      <td></td>\n",
       "    </tr>\n",
       "  </tbody>\n",
       "</table>\n",
       "</div>"
      ],
      "text/plain": [
       "   AC_No    ACNameEn  PollingBoothNo  SectionNo  votersl houseno       VIDNo  \\\n",
       "0    223  Aurangabad               1          1        1       1  NCY#####14   \n",
       "1    223  Aurangabad               1          1        2       2  NCY#####33   \n",
       "2    223  Aurangabad               1          1        3       2  NCY#####43   \n",
       "3    223  Aurangabad               1          1        4       2  NCY#####50   \n",
       "4    223  Aurangabad               1          1        5       3  NCY#####06   \n",
       "\n",
       "           VoterNameEng     Sex  relationNameEng relation  Age SectionNameEng  \\\n",
       "0          saurav kumar    Male     ashok prasad   Father   22         Jamhor   \n",
       "1  Sanjeev kumar Pandey    Male    Suresh Pandey   Father   27         Jamhor   \n",
       "2        Durgawati Devi  Female  Dudhnath paswan  Husband   57         Jamhor   \n",
       "3       Dudhnath Paswan    Male    chhedi Paswan   Father   68         Jamhor   \n",
       "4          Sanjit kumar    Male  Ramanand Paswan   Father   24         Jamhor   \n",
       "\n",
       "  PollingStationAddressEn FirstNameEng LastNameEng MiddleNameEng  \n",
       "0  Uchcha Vighalay Jamhor       saurav       kumar                \n",
       "1  Uchcha Vighalay Jamhor      Sanjeev      Pandey         kumar  \n",
       "2  Uchcha Vighalay Jamhor    Durgawati        Devi                \n",
       "3  Uchcha Vighalay Jamhor     Dudhnath      Paswan                \n",
       "4  Uchcha Vighalay Jamhor       Sanjit       kumar                "
      ]
     },
     "execution_count": 21,
     "metadata": {},
     "output_type": "execute_result"
    }
   ],
   "source": [
    "masked_dataset = eng_voter_data.drop(['VIDNo'],axis=1)\n",
    "masked_dataset['VIDNo'] = masked_ID\n",
    "masked_dataset = masked_dataset.iloc[:,[0,1,2,3,4,5,16,6,7,8,9,10,11,12,13,14,15]]\n",
    "masked_dataset.to_csv('Hidden_VIDNo.csv')\n",
    "masked_dataset.head()"
   ]
  },
  {
   "cell_type": "markdown",
   "id": "675de833",
   "metadata": {
    "papermill": {
     "duration": 0.036967,
     "end_time": "2022-02-14T16:59:35.745232",
     "exception": false,
     "start_time": "2022-02-14T16:59:35.708265",
     "status": "completed"
    },
    "tags": []
   },
   "source": [
    "**Ans 10 : To mask the VIDNo, I have first converted the data to 'str' type, for easier manipulation. Then I have simply replaced the 4th,5th,6th,7th,8th digits with '#' and stored it in a new dataframe, so that I still have access to the original data. I will upload a csv file of the same.**"
   ]
  }
 ],
 "metadata": {
  "kernelspec": {
   "display_name": "Python 3",
   "language": "python",
   "name": "python3"
  },
  "language_info": {
   "codemirror_mode": {
    "name": "ipython",
    "version": 3
   },
   "file_extension": ".py",
   "mimetype": "text/x-python",
   "name": "python",
   "nbconvert_exporter": "python",
   "pygments_lexer": "ipython3",
   "version": "3.7.10"
  },
  "papermill": {
   "default_parameters": {},
   "duration": 22.961306,
   "end_time": "2022-02-14T16:59:36.492880",
   "environment_variables": {},
   "exception": null,
   "input_path": "__notebook__.ipynb",
   "output_path": "__notebook__.ipynb",
   "parameters": {},
   "start_time": "2022-02-14T16:59:13.531574",
   "version": "2.3.3"
  }
 },
 "nbformat": 4,
 "nbformat_minor": 5
}
